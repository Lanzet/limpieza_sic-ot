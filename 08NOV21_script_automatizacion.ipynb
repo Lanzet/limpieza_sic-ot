{
    "cells": [
        {
            "cell_type": "code",
            "execution_count": 1,
            "metadata": {},
            "outputs": [],
            "source": [
                "import pandas as pd\n",
                "import numpy as np\n",
                "import re\n",
                "from pathlib import Path\n",
                "import lxml\n",
                "import tkinter as tk\n",
                "from tkinter import filedialog"
            ]
        },
        {
            "cell_type": "code",
            "execution_count": 2,
            "metadata": {},
            "outputs": [],
            "source": [
                "# path = 'XXEJE_EAM___Ciclo_de_vida_órde_100821.xls'\n",
                "root = tk.Tk()\n",
                "root.withdraw()\n",
                "\n",
                "path = filedialog.askopenfilename()\n",
                "with open(path, 'rt', encoding='utf-8') as myfile:\n",
                "    data = myfile.read()#.replace('</span><br/><span class=\"c62\">', ' ').replace('</span><br/><br/><span class=\"c62\">', ' ').replace('</span><br/><br/><br/><span class=\"c62\">', ' ')"
            ]
        },
        {
            "cell_type": "code",
            "execution_count": 3,
            "metadata": {},
            "outputs": [],
            "source": [
                "df_ori = pd.read_html(data, header=0)\n",
                "# df_cvo = df_ori.copy()\n",
                "df_cvo = pd.DataFrame(df_ori[0])"
            ]
        },
        {
            "cell_type": "code",
            "execution_count": 4,
            "metadata": {},
            "outputs": [],
            "source": [
                "# df_cvo = pd.DataFrame(df_ori[0])"
            ]
        },
        {
            "cell_type": "code",
            "execution_count": 5,
            "metadata": {},
            "outputs": [],
            "source": [
                "# df_cvo.info()"
            ]
        },
        {
            "cell_type": "code",
            "execution_count": 6,
            "metadata": {},
            "outputs": [],
            "source": [
                "df_cvo = pd.DataFrame(df_ori[0])\n",
                "# df_cvo.loc[df_cvo['Descripción'].map(type) == datetime, 'Descripción'] = None\n",
                "# df_cvo['Descripción'].replace('MRB', None, inplace=True)\n",
                "\n",
                "df_cvo.dropna(how='all', inplace=True)\n",
                "\n",
                "df_cvo.loc[df_cvo['Descripcion Activo'].isnull(), 'Nulo'] = 'Si'\n",
                "\n",
                "vacios = df_cvo[df_cvo['Nulo']=='Si'].index.values\n",
                "\n",
                "# df_cvo.at[i, 'Descripción'] = [df_cvo.loc[i+1, ['Numero Activo','Descripción']]['Descripción'] for i in vacios]\n",
                "\n",
                "for i in vacios:\n",
                "    # print(df_cvo.loc[i, ['Numero Activo','Descripción']]['Descripción'])\n",
                "    df_cvo.at[i, 'Descripción'] = df_cvo.loc[i+1, ['Numero Activo','Descripción']]['Descripción']\n",
                "\n",
                "df_cvo.drop(columns='Nulo', inplace=True)\n",
                "df_cvo.drop(index=vacios, inplace=True)\n",
                "df_cvo.reset_index(drop=True, inplace=True)\n",
                "df_cvo.drop_duplicates(inplace = True)\n",
                "\n",
                "df_cvo.insert(loc=2, column='PPA_MMU', value=None)\n",
                "df_cvo.insert(loc=5, column='Tipo Ot', value='Principal')\n",
                "df_cvo.insert(loc=6, column='Sistema', value=None)\n",
                "\n",
                "sist = ['Grupo Motopropulsor', 'Alimentacion De Combustible', 'Frenos', 'Rodadura', 'Direccion y Conduccion', 'Suspencion', 'Generacion e Iluminacion', 'Indicacion y Registro', 'Anfibio y Vadeo', 'Guiado de Armamento', 'Observacion y Control de Fuego', 'Armamento Principal', 'No Identificado 13', 'Plataforma Hidraulica', 'Plataforma Estructural', 'Equipamento Zapador / Recuperador', 'Extincion de Incendios', 'Acondicionamiento de Aire', 'Lanza Fumigenos', 'Estructura', 'Equipamiento Estructura', 'No Identificado 22', 'Comunicaciones']\n",
                "\n",
                "for i, sis in enumerate(sist):\n",
                "    # print(str(i+1).zfill(2))\n",
                "    df_cvo['Sistema'] = np.where(((df_cvo['Grupo De Activos']=='GR_SIS.02.0'+str(i+1).zfill(2)) | (df_cvo['Grupo De Activos'].str.contains('GR_SUB.02.0'+str(i+1).zfill(2)))), sis, df_cvo['Sistema'])\n",
                "    \n",
                "df_cvo['Numero Ot Principal'] = np.where(df_cvo['Numero Ot Principal'].str.contains('No tiene'),None,df_cvo['Numero Ot Principal'])\n",
                "df_cvo['Tipo Ot'] = np.where(df_cvo['Numero Ot Principal'].isnull(),df_cvo['Tipo Ot'],'Secundaria')"
            ]
        },
        {
            "cell_type": "code",
            "execution_count": 7,
            "metadata": {},
            "outputs": [
                {
                    "ename": "NameError",
                    "evalue": "name 'df_' is not defined",
                    "output_type": "error",
                    "traceback": [
                        "\u001b[1;31m---------------------------------------------------------------------------\u001b[0m",
                        "\u001b[1;31mNameError\u001b[0m                                 Traceback (most recent call last)",
                        "\u001b[1;32mC:\\Users\\Public\\Documents\\Wondershare\\CreatorTemp/ipykernel_13708/2054911735.py\u001b[0m in \u001b[0;36m<module>\u001b[1;34m\u001b[0m\n\u001b[0;32m     36\u001b[0m         \u001b[0mb\u001b[0m\u001b[1;33m=\u001b[0m\u001b[1;36m1\u001b[0m\u001b[1;33m\u001b[0m\u001b[1;33m\u001b[0m\u001b[0m\n\u001b[0;32m     37\u001b[0m \u001b[1;33m\u001b[0m\u001b[0m\n\u001b[1;32m---> 38\u001b[1;33m \u001b[0mdf_\u001b[0m\u001b[1;33m\u001b[0m\u001b[1;33m\u001b[0m\u001b[0m\n\u001b[0m",
                        "\u001b[1;31mNameError\u001b[0m: name 'df_' is not defined"
                    ]
                }
            ],
            "source": [
                "df_cvo['PPA_MMU'] = df_cvo['Descripcion Activo'].str.split('_', expand = True)[0]\n",
                "b=0\n",
                "for i, n in enumerate(df_cvo['PPA_MMU']):\n",
                "    try:\n",
                "        if not (re.match(r'[a-zA-Z0-9]{1,4}-[a-zA-Z0-9]{1,4}$', n)):\n",
                "            # b=2\n",
                "            # print(df_cvo_cvo.loc[i,'Numero Activo'][4:])\n",
                "            m = df_cvo.loc[i,'Numero Activo'][4:]\n",
                "            df_cvo.loc[i,'PPA_MMU'] = m # df_cvo.loc[i,'Numero Activo'][4:]\n",
                "             \n",
                "        # else:\n",
                "            # print(n)\n",
                "    except:\n",
                "        b=1\n",
                "\n",
                "for i, n in enumerate(df_cvo['PPA_MMU']):\n",
                "    try:\n",
                "        if not (re.match(r'[a-zA-Z0-9]{1,4}-[a-zA-Z0-9]{1,4}$', n)):\n",
                "            # b=2\n",
                "            # print(df_cvo_cvo.loc[i,'Descripción Activo'][:7])\n",
                "            df_cvo.loc[i,'PPA_MMU'] = df_cvo.loc[i,'Descripcion Activo'][:7]\n",
                "        # else:\n",
                "            # print(n)\n",
                "    except:\n",
                "        b=1\n",
                "\n",
                "for i, n in enumerate(df_cvo['PPA_MMU']):\n",
                "    try:\n",
                "        if not (re.match(r'[a-zA-Z0-9]{1,4}-[a-zA-Z0-9]{1,4}$', n)):\n",
                "            # print(df_cvo.loc[i,'Descripción Activo'][:7])\n",
                "            # print(n)\n",
                "            df_cvo.loc[i,'PPA_MMU'] = 'SinNumero'\n",
                "        else:\n",
                "            b=2\n",
                "    except:\n",
                "        b=1"
            ]
        },
        {
            "cell_type": "code",
            "execution_count": null,
            "metadata": {},
            "outputs": [
                {
                    "name": "stderr",
                    "output_type": "stream",
                    "text": [
                        "C:\\Users\\Public\\Documents\\Wondershare\\CreatorTemp/ipykernel_2216/2337654648.py:1: SettingWithCopyWarning: \n",
                        "A value is trying to be set on a copy of a slice from a DataFrame\n",
                        "\n",
                        "See the caveats in the documentation: https://pandas.pydata.org/pandas-docs/stable/user_guide/indexing.html#returning-a-view-versus-a-copy\n",
                        "  df_cvo['PPA_MMU'][df_cvo['PPA_MMU'].isna()] = 'SinNumero'\n"
                    ]
                }
            ],
            "source": [
                "# df_cvo['PPA_MMU'][df_cvo['PPA_MMU'].isna()] = 'SinNumero'"
            ]
        },
        {
            "cell_type": "code",
            "execution_count": 9,
            "metadata": {},
            "outputs": [],
            "source": [
                "_, df_rs = pd.read_html('XXEJE_EAM____Reporte_situación_021121.xls', header =0)\n",
                "df_bdvehic = pd.read_csv('Clean_Bd_Vehic.csv', encoding='latin-1', index_col=0)\n",
                "df_cod_org = pd.read_csv('Codigo_Organizacion.csv', sep=';')"
            ]
        },
        {
            "cell_type": "code",
            "execution_count": 10,
            "metadata": {},
            "outputs": [],
            "source": [
                "df_rs.columns = df_rs.columns.str.replace(' ', '')\n",
                "df_cvo.columns = df_cvo.columns.str.replace(' ', '')\n",
                "\n",
                "df_rs.columns = df_rs.columns.str.normalize('NFKD').str.encode('ascii', errors='ignore').str.decode('utf-8')\n",
                "df_cvo.columns = df_cvo.columns.str.normalize('NFKD').str.encode('ascii', errors='ignore').str.decode('utf-8')"
            ]
        },
        {
            "cell_type": "code",
            "execution_count": 11,
            "metadata": {},
            "outputs": [],
            "source": [
                "column_names = ['Numero_OT', 'OT_Principal', 'Tipo_OT', 'Estado_OT', 'PPA_MMU', 'SIC', 'Estado_SIC', 'Total', 'Desc', 'Marca', 'Modelo', 'Nom', 'Ele_Comp', 'Desc_Falla', 'Cod_Org', 'Nom_Org', 'Cod_Taller', 'UAC', 'UR', 'Tipo_Mant', 'Tipo_Comb', 'Sistema', 'Cod_Falla', 'Fec_Creacion', 'Fec_Final', 'Fec_Liberacion', 'Fec_Cierre', 'Year']\n",
                "\n",
                "df = pd.DataFrame(columns = column_names)\n",
                "df.columns = df.columns.str.normalize('NFKD').str.encode('ascii', errors='ignore').str.decode('utf-8')\n",
                "df.columns = df.columns.str.replace(' ', '')"
            ]
        },
        {
            "cell_type": "code",
            "execution_count": 12,
            "metadata": {},
            "outputs": [
                {
                    "data": {
                        "text/plain": [
                            "Index(['UAC', 'UR', 'PPA_MMU', 'NombreUR', 'NumeroActivo', 'TipoOt', 'Sistema',\n",
                            "       'Solicitud', 'Fechasolicitud', 'NumeroOt', 'NumeroOtPrincipal',\n",
                            "       'DescripcionOt', 'FechaCreacion', 'FechaLiberacion',\n",
                            "       'FechaFinalizacion', 'FechaCierre', 'Estado', 'MotivoEstado',\n",
                            "       'DescripcionActivo', 'GrupoDeActivos', 'TipoMantenimiento',\n",
                            "       'CodigoTaller', 'CodigoSolucion', 'DescripcionFalla',\n",
                            "       'DescripcionCausa', 'DescripcionSolucion', 'ComentarioFalla',\n",
                            "       'FechaFalla'],\n",
                            "      dtype='object')"
                        ]
                    },
                    "execution_count": 12,
                    "metadata": {},
                    "output_type": "execute_result"
                }
            ],
            "source": [
                "df_cvo.columns"
            ]
        },
        {
            "cell_type": "code",
            "execution_count": 13,
            "metadata": {},
            "outputs": [],
            "source": [
                "df[['Numero_OT', 'OT_Principal', 'Tipo_OT', 'Estado_OT', 'PPA_MMU', 'Ele_Comp', 'Desc_Falla', 'Cod_Org', 'Cod_Taller', 'Tipo_Mant', 'Sistema', 'Fec_Creacion', 'Fec_Final', 'Fec_Liberacion', 'Fec_Cierre']] = df_cvo[['NumeroOt', 'NumeroOtPrincipal', 'TipoOt', 'Estado', 'PPA_MMU', 'GrupoDeActivos', 'DescripcionOt', 'NombreUR', 'CodigoTaller', 'TipoMantenimiento', 'Sistema', 'FechaCreacion', 'FechaFinalizacion', 'FechaLiberacion', 'FechaCierre']]\n",
                "# df['OT_Principal'] = df_cvo['NumeroOtPrincipal']\n",
                "# df['Tipo_OT'] = df_cvo['TipoOt']\n",
                "# df['Estado_OT'] = df_cvo['Estado']\n",
                "# # df['Prioridad_Ot'] = df_cvo['Prioridad']\n",
                "# df['PPA_MMU'] = df_cvo['PPA_MMU']\n",
                "# df['Ele_Comp'] = df_cvo['GrupoDeActivos']\n",
                "# df['Desc_Falla'] = df_cvo['Descripcion']\n",
                "# df['Cod_Org'] = df_cvo['CodOrganizacion']\n",
                "# df['Cod_Taller'] = df_cvo['CodigoTaller']\n",
                "# df['Tipo_Mant'] = df_cvo['TipoMantenimiento']\n",
                "# df['Sistema'] = df_cvo['Sistema']\n",
                "# df['Cod_Falla'] = df_cvo['CodigoFalla']\n",
                "# df['Fec_Creacion'] = df_cvo['FechaCreacion']\n",
                "# df['Fec_Inicial_Prog'] = df_cvo['FechaInicialProgramada']\n",
                "# df['Fec_Final_Prog'] = df_cvo['FechaFinalizacionProgramada']\n",
                "# df['Fec_Final'] = df_cvo['FechaFinalizacion']\n",
                "# df['Fec_Liberacion'] = df_cvo['FechaLiberacion']\n",
                "# df['Fec_Cierre'] = df_cvo['FechaCierre']\n",
                "# df['Fec_Falla'] = df_cvo['FechaFalla']\n",
                "# df['Hora_Rep'] = df_cvo['Duracion']"
            ]
        },
        {
            "cell_type": "code",
            "execution_count": 14,
            "metadata": {},
            "outputs": [],
            "source": [
                "df['Tipo_OT'] = np.where(df['OT_Principal'].str.contains('No Tiene'), 'Principal', df['Tipo_OT'])\n",
                "df['Tipo_OT'] = np.where(df['OT_Principal'].str.contains('OT'), 'Secundaria', df['Tipo_OT'])\n",
                "\n",
                "mp = {'MPI', 'MPC'}\n",
                "df.loc[df.Tipo_Mant.isin(mp), 'Tipo_OT'] = 'Principal'"
            ]
        },
        {
            "cell_type": "code",
            "execution_count": 15,
            "metadata": {},
            "outputs": [],
            "source": [
                "def right_join_test(left_db, right_db, left_col, left_merge_cols, right_col, right_merge_cols):\n",
                "    left_temp_df = left_db.copy()\n",
                "    right_temp_df = right_db[right_col]\n",
                "    right_db[right_merge_cols] = pd.merge(left_temp_df, right_temp_df, left_on=left_col, right_on=right_col, how='right', indicator=True)[left_merge_cols]"
            ]
        },
        {
            "cell_type": "code",
            "execution_count": 16,
            "metadata": {},
            "outputs": [],
            "source": [
                "left_cols = ['Descripcion', 'ATT8', 'Modelo', 'UAC', 'UR', 'ATT11', 'ATT19', 'ATT24']\n",
                "right_cols = ['Desc', 'Marca', 'Modelo', 'UAC', 'UR', 'Nom', 'Tipo_Comb', 'Ele_Comp']\n",
                "right_join_test(df_bdvehic, df, 'Numero Etiqueta', left_cols, 'PPA_MMU', right_cols)\n",
                "df['Ele_Comp'].replace(np.nan, 'NO APLICA', inplace=True)"
            ]
        },
        {
            "cell_type": "code",
            "execution_count": 17,
            "metadata": {},
            "outputs": [],
            "source": [
                "# left_temp_df = df_bdvehic.copy()\n",
                "# right_temp_df = df['PPA_MMU']\n",
                "# left_cols = ['Descripcion', 'ATT8', 'Modelo', 'UAC', 'UR', 'ATT11', 'ATT19', 'ATT24']\n",
                "# right_cols = ['Desc', 'Marca', 'Modelo', 'UAC', 'UR', 'Nom', 'Tipo_Comb', 'Ele_Comp']\n",
                "# df[right_cols] = pd.merge(left_temp_df, right_temp_df, left_on='Numero Etiqueta', right_on='PPA_MMU', how='right', indicator=True)[left_cols]\n",
                "# df['Ele_Comp'].replace(np.nan, 'NO APLICA', inplace=True)"
            ]
        },
        {
            "cell_type": "code",
            "execution_count": 18,
            "metadata": {},
            "outputs": [],
            "source": [
                "left_cols = ['NumeroSic', 'EstadoSic', 'Total']\n",
                "right_cols = ['SIC', 'Estado_SIC', 'Total']\n",
                "right_join_test(df_rs, df, 'NroOt', left_cols, 'Numero_OT', right_cols)"
            ]
        },
        {
            "cell_type": "code",
            "execution_count": 19,
            "metadata": {},
            "outputs": [],
            "source": [
                "# left_temp_df = df_rs.copy()\n",
                "# right_temp_df = df['Numero_OT']\n",
                "# df[['SIC', 'Estado_SIC', 'Total']] = pd.merge(left_temp_df, right_temp_df, left_on='NroOt', right_on='Numero_OT', how='right', indicator=True)[['NumeroSic', 'EstadoSic', 'Total']]"
            ]
        },
        {
            "cell_type": "code",
            "execution_count": 20,
            "metadata": {},
            "outputs": [],
            "source": [
                "# df_cod_org.head()"
            ]
        },
        {
            "cell_type": "code",
            "execution_count": 21,
            "metadata": {},
            "outputs": [],
            "source": [
                "left_cols = 'Nombre'\n",
                "right_cols = 'Nom_Org'\n",
                "right_join_test(df_cod_org, df, 'Codigo', left_cols, 'Cod_Org', right_cols)"
            ]
        },
        {
            "cell_type": "code",
            "execution_count": 22,
            "metadata": {},
            "outputs": [],
            "source": [
                "# left_temp_df = df_cod_org.copy()\n",
                "# right_temp_df = df['Cod_Org']\n",
                "# df['Nom_Org'] = pd.merge(left_temp_df, right_temp_df, left_on='Codigo', right_on='Cod_Org', how='right', indicator=True)['Nombre']"
            ]
        },
        {
            "cell_type": "code",
            "execution_count": 23,
            "metadata": {},
            "outputs": [
                {
                    "name": "stderr",
                    "output_type": "stream",
                    "text": [
                        "C:\\Users\\Lanzet\\AppData\\Local\\Programs\\Python\\Python38\\lib\\site-packages\\pandas\\core\\frame.py:3607: SettingWithCopyWarning: \n",
                        "A value is trying to be set on a copy of a slice from a DataFrame.\n",
                        "Try using .loc[row_indexer,col_indexer] = value instead\n",
                        "\n",
                        "See the caveats in the documentation: https://pandas.pydata.org/pandas-docs/stable/user_guide/indexing.html#returning-a-view-versus-a-copy\n",
                        "  self._set_item(key, value)\n",
                        "C:\\Users\\Lanzet\\AppData\\Local\\Programs\\Python\\Python38\\lib\\site-packages\\pandas\\core\\indexing.py:1773: SettingWithCopyWarning: \n",
                        "A value is trying to be set on a copy of a slice from a DataFrame.\n",
                        "Try using .loc[row_indexer,col_indexer] = value instead\n",
                        "\n",
                        "See the caveats in the documentation: https://pandas.pydata.org/pandas-docs/stable/user_guide/indexing.html#returning-a-view-versus-a-copy\n",
                        "  self._setitem_single_column(ilocs[0], value, pi)\n"
                    ]
                }
            ],
            "source": [
                "df_temp = df[['Fec_Creacion', 'Fec_Final', 'Fec_Liberacion', 'Fec_Cierre']]\n",
                "\n",
                "for i in df_temp:\n",
                "    df_temp.loc[:, i] = pd.to_datetime(df_temp.loc[:, i], errors='coerce')"
            ]
        },
        {
            "cell_type": "code",
            "execution_count": 24,
            "metadata": {},
            "outputs": [],
            "source": [
                "# df_temp"
            ]
        },
        {
            "cell_type": "code",
            "execution_count": 25,
            "metadata": {},
            "outputs": [
                {
                    "name": "stderr",
                    "output_type": "stream",
                    "text": [
                        "C:\\Users\\Lanzet\\AppData\\Local\\Programs\\Python\\Python38\\lib\\site-packages\\pandas\\core\\frame.py:5233: SettingWithCopyWarning: \n",
                        "A value is trying to be set on a copy of a slice from a DataFrame\n",
                        "\n",
                        "See the caveats in the documentation: https://pandas.pydata.org/pandas-docs/stable/user_guide/indexing.html#returning-a-view-versus-a-copy\n",
                        "  return super().replace(\n"
                    ]
                }
            ],
            "source": [
                "df_temp.replace(np.datetime64('NaT'), str(pd.to_datetime('today').normalize().year), inplace=True)"
            ]
        },
        {
            "cell_type": "code",
            "execution_count": 26,
            "metadata": {},
            "outputs": [],
            "source": [
                "# df_temp.head()"
            ]
        },
        {
            "cell_type": "code",
            "execution_count": 27,
            "metadata": {},
            "outputs": [],
            "source": [
                "df['Year'] = [np.amin(np.array([row.Fec_Creacion.year,row.Fec_Final.year,row.Fec_Liberacion.year,row.Fec_Cierre.year])) for _, row in df_temp.iterrows()]"
            ]
        },
        {
            "cell_type": "code",
            "execution_count": 28,
            "metadata": {},
            "outputs": [],
            "source": [
                "# df['Year'].value_counts()"
            ]
        },
        {
            "cell_type": "code",
            "execution_count": 29,
            "metadata": {},
            "outputs": [],
            "source": [
                "# df['Year'].unique()"
            ]
        },
        {
            "cell_type": "code",
            "execution_count": 30,
            "metadata": {},
            "outputs": [],
            "source": [
                "# df.info()"
            ]
        },
        {
            "cell_type": "code",
            "execution_count": 31,
            "metadata": {},
            "outputs": [],
            "source": [
                "out_file = Path.cwd() / \"output.xlsx\"\n",
                "writer = pd.ExcelWriter(out_file, engine = 'xlsxwriter')\n",
                "df.to_excel(writer, index = False, sheet_name = 'Test1')\n",
                "#df_vehic.to_excel(writer, index = False, sheet_name = 'Test2')\n",
                "writer.save()"
            ]
        }
    ],
    "metadata": {
        "interpreter": {
            "hash": "abd71ca0273cee8f8830c46ec1e03309f3a1a65fe5bd29f380243a6172077fef"
        },
        "kernelspec": {
            "display_name": "Python 3.8.10 64-bit",
            "name": "python3"
        },
        "language_info": {
            "codemirror_mode": {
                "name": "ipython",
                "version": 3
            },
            "file_extension": ".py",
            "mimetype": "text/x-python",
            "name": "python",
            "nbconvert_exporter": "python",
            "pygments_lexer": "ipython3",
            "version": "3.8.10"
        },
        "orig_nbformat": 4
    },
    "nbformat": 4,
    "nbformat_minor": 2
}
