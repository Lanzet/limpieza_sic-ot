{
 "cells": [
  {
   "cell_type": "code",
   "execution_count": 1,
   "metadata": {},
   "outputs": [],
   "source": [
    "import re\n",
    "import pandas as pd\n",
    "import numpy as np\n",
    "# import more_itertools as mit\n",
    "# from datetime import datetime\n",
    "import missingno as msngo\n",
    "import matplotlib.pyplot as plt\n",
    "from matplotlib.ticker import PercentFormatter\n",
    "\n",
    "import seaborn as sns\n",
    "import requests\n",
    "import PIL\n",
    "import io\n",
    "from wordcloud import WordCloud\n",
    "\n",
    "from sklearn.feature_extraction.text import CountVectorizer"
   ]
  },
  {
   "cell_type": "code",
   "execution_count": 2,
   "metadata": {},
   "outputs": [],
   "source": [
    "# df = pd.read_excel('BBDD_Vehiculos_4_2021.xlsx', header=0)\n",
    "# df_ori = pd.read_excel('XXEJE_Informe_Registro_de_Acti_081121.xls', header=0)\n",
    "df_ori = pd.read_html('../Datos/XXEJE_FA___Reporte_de_Activos__010222.xls', header=0)[0]"
   ]
  },
  {
   "cell_type": "code",
   "execution_count": 3,
   "metadata": {},
   "outputs": [],
   "source": [
    "# df_ori = pd.read_excel('XXEJE_Informe_Registro_de_Acti_081121.xls', header=0)\n",
    "df_obj = df_ori.select_dtypes(['object'])\n",
    "df_ori[df_obj.columns] = df_obj.apply(lambda x: x.str.strip())"
   ]
  },
  {
   "cell_type": "code",
   "execution_count": 4,
   "metadata": {},
   "outputs": [],
   "source": [
    "# # df.head()\n",
    "# mat = msngo.matrix(df_ori)\n",
    "# mat.axes.tick_params(axis='y', labelsize=30)"
   ]
  },
  {
   "cell_type": "code",
   "execution_count": 5,
   "metadata": {},
   "outputs": [],
   "source": [
    "# df = df_ori[['Numero Activo','MMU/PPU', 'Descripción', 'Marca', 'Modelo', 'UAC', 'UR', 'Atributo 2', 'Atributo 4', 'Atributo 5', 'Atributo 6', 'Atributo 9', 'Atributo 11', 'Atributo 19', 'Atributo 20', 'Atributo 24']]\n",
    "df = df_ori[['Numero Activo','MMU/PPU', 'Descripción', 'Marca', 'Modelo', 'Categoría SIGLE', 'UAC', 'UR', 'Costo Actual', 'Situación Operacional', 'Condición del Bien', 'Año Fabricación', 'Cód. CIMAGE', 'Tipo Patente', 'Rueda/Repuesto/Batería/Combustible', 'Capacidad Estanque LTS', 'Función']]\n",
    "df = df.drop_duplicates()\n",
    "df.reset_index(drop=True, inplace=True)\n",
    "df.rename(columns={'Rueda/Repuesto/Batería/Combustible':'Combustible', 'Capacidad Estanque LTS':'Estanque'}, inplace=True)"
   ]
  },
  {
   "cell_type": "code",
   "execution_count": 6,
   "metadata": {},
   "outputs": [],
   "source": [
    "# mat = msngo.matrix(df)\n",
    "# mat.axes.tick_params(axis='y', labelsize=30)"
   ]
  },
  {
   "cell_type": "code",
   "execution_count": 7,
   "metadata": {},
   "outputs": [],
   "source": [
    "# data_cvo = df.isna().sum().sort_values(ascending=False)\n",
    "# df_temp = pd.DataFrame({'columna': data_cvo.values})\n",
    "# df_temp.index = data_cvo.index\n",
    "# df_temp = df_temp.sort_values(by='columna',ascending=False)\n",
    "# df_temp[\"cumper\"] = df_temp[\"columna\"].cumsum()/df_temp[\"columna\"].sum()*100\n",
    "\n",
    "\n",
    "# fig, ax = plt.subplots(figsize=(10,5))\n",
    "# ax.bar(df_temp.index, df_temp[\"columna\"], color=\"C0\")\n",
    "# ax2 = ax.twinx()\n",
    "# ax2.plot(df_temp.index, df_temp[\"cumper\"], color=\"C1\", marker=\"D\", ms=7)\n",
    "# ax2.yaxis.set_major_formatter(PercentFormatter())\n",
    "\n",
    "# ax.tick_params(axis=\"y\", colors=\"C0\")\n",
    "# ax.tick_params(axis=\"x\", rotation=80)\n",
    "# ax2.tick_params(axis=\"y\", colors=\"C1\")\n",
    "# plt.title('Gráfico de Pareto para la distribución de celdas vacias')\n",
    "# plt.show()"
   ]
  },
  {
   "cell_type": "code",
   "execution_count": 8,
   "metadata": {},
   "outputs": [],
   "source": [
    "# # df['test'] = []\n",
    "# df['test'] = np.where(df['MMU/PPU'].str.contains('\\*', regex=False),1 , 0)\n",
    "# df['test'] = np.where(df['MMU/PPU'].str.contains(' '),1 , df['test'])\n",
    "# df['test'] = np.where(df['MMU/PPU'].str.contains('.'),1 , df['test'])\n",
    "# df['test'] = np.where(df['MMU/PPU'].str.contains('REP.'),1 , df['test'])\n",
    "# # df['test'] = np.where(df['MMU/PPU'].str.contains('XW6996'),1 , df['test'])\n",
    "# df['test'] = np.where(df['MMU/PPU'].str.contains('SINMATRICULA'),1 , df['test'])\n",
    "# df['test'] = np.where(df['MMU/PPU'].str.contains('S/M'),1 , df['test'])\n",
    "\n",
    "# print('Numero de errores a correguir '+str(df['test'].value_counts()[1]))\n",
    "\n",
    "# df.drop(columns='test', inplace=True)"
   ]
  },
  {
   "cell_type": "code",
   "execution_count": 9,
   "metadata": {},
   "outputs": [],
   "source": [
    "chars_to_remove = ['*', ' ']\n",
    "regular_expression = '[' + re.escape (''. join (chars_to_remove)) + ']'\n",
    "\n",
    "df['MMU/PPU'] = df['MMU/PPU'].str.replace(regular_expression,'', regex=True)\n",
    "df['MMU/PPU'] = df['MMU/PPU'].str.replace('.','-', regex=True)\n",
    "df['MMU/PPU'] = df['MMU/PPU'].str.replace('REP-','', regex=True)\n",
    "# df['MMU/PPU'] = df['MMU/PPU'].str.replace('XW6996','XW-6996', regex=True)\n",
    "df['MMU/PPU'] = df['MMU/PPU'].str.replace('SINMATRICULA','', regex=True)\n",
    "df['MMU/PPU'] = df['MMU/PPU'].str.replace('S/M','', regex=True)"
   ]
  },
  {
   "cell_type": "code",
   "execution_count": 10,
   "metadata": {},
   "outputs": [],
   "source": [
    "# b=0\n",
    "# for i, n in enumerate(df['MMU/PPU']):\n",
    "#     try:\n",
    "#         a = n.split('-')\n",
    "#         if len(a) > 2:\n",
    "#             if (re.match(r'[a-zA-Z0-9]{1,4}-[a-zA-Z0-9]{1,4}-[a-zA-Z0-9]{0}$', n)):\n",
    "#                 df.loc[i, 'MMU/PPU'] = n[:-1]\n",
    "#                 b=b+1\n",
    "#             if (re.match(r'[a-zA-Z0-9]{1,4}-[a-zA-Z0-9]{1,4}-[a-zA-Z0-9]{1}$', n)):\n",
    "#                 df.loc[i, 'MMU/PPU'] = n[:-2]    \n",
    "#                 b=b+1\n",
    "#             if (re.match(r'[a-zA-Z0-9]{1,4}-[a-zA-Z0-9]{1,4}-[a-zA-Z0-9]{2}$', n)):\n",
    "#                 df.loc[i, 'MMU/PPU'] = n[:-3]\n",
    "#                 b=b+1\n",
    "#             if (re.match(r'[a-zA-Z0-9]{1,4}-[a-zA-Z0-9]{1,4}-[a-zA-Z0-9]{3}$', n)):\n",
    "#                 df.loc[i, 'MMU/PPU'] = n[:-4]\n",
    "#                 b=b+1\n",
    "#             if (re.match(r'[a-zA-Z0-9]{1,4}-[a-zA-Z0-9]{1,4}-[a-zA-Z0-9]{1,4}-[a-zA-Z0-9]{1,4}$', n)):\n",
    "#                 df.loc[i, 'MMU/PPU'] = n[:-3]\n",
    "#                 b=b+1\n",
    "#     except:\n",
    "#         b=b+0\n",
    "\n",
    "# print('Errores relacionados a Patentes mal ingresadas '+str(b))\n",
    "\n",
    "# df.drop_duplicates(subset='MMU/PPU', ignore_index=True, inplace=True)\n",
    "# # df.reset_index(drop=True, inplace=True)\n",
    "# # df"
   ]
  },
  {
   "cell_type": "code",
   "execution_count": 11,
   "metadata": {},
   "outputs": [],
   "source": [
    "df['MMU/PPU'].fillna('SIN', inplace=True)"
   ]
  },
  {
   "cell_type": "code",
   "execution_count": 12,
   "metadata": {},
   "outputs": [],
   "source": [
    "palabras = []\n",
    "cambios = []\n",
    "for i, n in enumerate(df['MMU/PPU']):\n",
    "    match_w_n_w = re.findall(\"(([A-Z]+)([0-9]+)([A-Z]+))\", n)\n",
    "    match_n_w = re.findall(\"(([0-9]+)([A-Z]+))\", n)\n",
    "    match_w_n = re.findall(\"(([A-Z]+)([0-9]+))\", n)\n",
    "    if match_w_n_w:\n",
    "        # palabras.append(match_w_n_w[0][0])\n",
    "        palabras.append(n)\n",
    "        b = []\n",
    "        for (j, m) in list(enumerate(match_w_n_w[0]))[1:]:\n",
    "            b.append(m)\n",
    "        cambios.append('-'.join(b))\n",
    "    elif match_n_w:\n",
    "        # palabras.append(match_n_w[0][0])\n",
    "        palabras.append(n)\n",
    "        b = []\n",
    "        for (j, m) in list(enumerate(match_n_w[0]))[1:]:\n",
    "            b.append(m)\n",
    "        cambios.append('-'.join(b))\n",
    "    elif match_w_n:\n",
    "        # palabras.append(match_w_n[0][0])\n",
    "        palabras.append(n)\n",
    "        b = []\n",
    "        for (j, m) in list(enumerate(match_w_n[0]))[1:]:\n",
    "            b.append(m)\n",
    "        cambios.append('-'.join(b))\n",
    "palabra_cambio = {}\n",
    "palabra_cambio = dict(zip(palabras, cambios))"
   ]
  },
  {
   "cell_type": "code",
   "execution_count": 13,
   "metadata": {},
   "outputs": [],
   "source": [
    "for i, n in enumerate(palabra_cambio):\n",
    "    if len(n)<len(palabra_cambio[n])+1:\n",
    "        df['MMU/PPU'] = df['MMU/PPU'].str.replace(n, palabra_cambio[n], regex=False)"
   ]
  },
  {
   "cell_type": "code",
   "execution_count": 14,
   "metadata": {},
   "outputs": [
    {
     "name": "stderr",
     "output_type": "stream",
     "text": [
      "C:\\Users\\Public\\Documents\\Wondershare\\CreatorTemp/ipykernel_8012/3658226826.py:1: UserWarning: This pattern has match groups. To actually get the groups, use str.extract.\n",
      "  df[df['MMU/PPU'].str.contains(\"([A-Z]+)-([0-9]+)-[0-9]{1}$\")]['MMU/PPU'].unique()\n"
     ]
    },
    {
     "data": {
      "text/plain": [
       "array(['BPVR-32-2', 'PYGG-31-6', 'PYGG-32-4', 'RJXG-25-5', 'GKLZ-18-4',\n",
       "       'LH-3173-7', 'SN-9541-2', 'YU-6042-4', 'LTKW-93-3', 'LPXY-58-4',\n",
       "       'LPXY-60-6', 'LPXY-62-2', 'LPXY-63-0', 'LPXY-65-7', 'TA-5761-1',\n",
       "       'JG-4665-0', 'JG-4666-9', 'JG-4676-6', 'JWPG-22-6', 'JWPG-23-4',\n",
       "       'JWPG-24-2', 'JWPG-25-0', 'JWPG-26-9', 'JWPG-27-7', 'JWPG-28-5',\n",
       "       'JWPG-29-3', 'JWPG-30-7'], dtype=object)"
      ]
     },
     "execution_count": 14,
     "metadata": {},
     "output_type": "execute_result"
    }
   ],
   "source": [
    "df[df['MMU/PPU'].str.contains(\"([A-Z]+)-([0-9]+)-[0-9]{1}$\")]['MMU/PPU'].unique()"
   ]
  },
  {
   "cell_type": "code",
   "execution_count": 15,
   "metadata": {},
   "outputs": [],
   "source": [
    "palabras = []\n",
    "cambios = []\n",
    "for i, n in enumerate(df['MMU/PPU']):\n",
    "    match_w_n_n = re.findall(\"(([A-Z]+)-([0-9]+)-([0-9]{1}$))\", n)\n",
    "    # match_n_w = re.findall(\"(([0-9]+)([A-Z]+))\", n)\n",
    "    # match_w_n = re.findall(\"(([A-Z]+)([0-9]+))\", n)\n",
    "    if match_w_n_n:\n",
    "        # print(match_w_n_n[0])\n",
    "        # palabras.append(match_w_n_w[0][0])\n",
    "        palabras.append(n)\n",
    "        b = []\n",
    "        for (j, m) in list(enumerate(match_w_n_n[0]))[1:3]:\n",
    "            b.append(m)\n",
    "        cambios.append('-'.join(b))\n",
    "    # elif match_n_w:\n",
    "    #     # palabras.append(match_n_w[0][0])\n",
    "    #     palabras.append(n)\n",
    "    #     b = []\n",
    "    #     for (j, m) in list(enumerate(match_n_w[0]))[1:]:\n",
    "    #         b.append(m)\n",
    "    #     cambios.append('-'.join(b))\n",
    "    # elif match_w_n:\n",
    "    #     # palabras.append(match_w_n[0][0])\n",
    "    #     palabras.append(n)\n",
    "    #     b = []\n",
    "    #     for (j, m) in list(enumerate(match_w_n[0]))[1:]:\n",
    "    #         b.append(m)\n",
    "    #     cambios.append('-'.join(b))\n",
    "palabra_cambio = {}\n",
    "palabra_cambio = dict(zip(palabras, cambios))\n",
    "# cambios"
   ]
  },
  {
   "cell_type": "code",
   "execution_count": 16,
   "metadata": {},
   "outputs": [],
   "source": [
    "for i, n in enumerate(palabra_cambio):\n",
    "    # print(n, palabra_cambio[n])\n",
    "    if len(n)>len(palabra_cambio[n]): \n",
    "        df['MMU/PPU'] = df['MMU/PPU'].str.replace(n, palabra_cambio[n], regex=False)"
   ]
  },
  {
   "cell_type": "code",
   "execution_count": 17,
   "metadata": {},
   "outputs": [],
   "source": [
    "# df['Costo Actual'] = df['Costo Actual'].str.replace('-', '', regex=False)\n",
    "# df['Costo Actual'].fillna(0, inplace=True)"
   ]
  },
  {
   "cell_type": "code",
   "execution_count": 18,
   "metadata": {},
   "outputs": [],
   "source": [
    "# b=0\n",
    "# for i, n in enumerate(df['Costo Actual']):\n",
    "#     try:\n",
    "#         a = n.split('.')\n",
    "#         if len(a) > 1:\n",
    "#             if len(a[-1]) < 1:\n",
    "#                 df.loc[i, 'Costo Actual'] = n[:-1]\n",
    "#                 b=b+1\n",
    "#     except:\n",
    "#         # print(n)\n",
    "#         b=b+0\n",
    "        \n",
    "# b=0\n",
    "# for i, n in enumerate(df['Costo Actual']):\n",
    "#     try:\n",
    "#         a = n.split(',')\n",
    "#         if len(a) > 1:\n",
    "#             if (re.match(r'[0-9]+,[0-9]+,[0-9]+', n)):\n",
    "#                 df.loc[i, 'Costo Actual'] = a[0]+'.'+a[1]+','+a[2]\n",
    "#                 b=b+1\n",
    "#     except:\n",
    "#         # print(n)\n",
    "#         b=b+0\n",
    "        \n",
    "# for i, n in enumerate(df['Costo Actual']):\n",
    "#     try:\n",
    "#         a = n.split(',')\n",
    "#         if len(a) > 1:\n",
    "#             if (re.match(r'[0-9]+,[0-9]+', n)):\n",
    "#                 df.loc[i, 'Costo Actual'] = a[0]+'.'+a[1]\n",
    "#                 # print(n)\n",
    "#                 b=b+1\n",
    "#     except:\n",
    "#         # print(n)\n",
    "#         b=b+0\n",
    "\n",
    "# df['Costo Actual'] = df['Costo Actual'].str.replace('.', '', regex=False)\n",
    "# df['Costo Actual'] = df['Costo Actual'].str.replace(',', '.', regex=False)\n",
    "# df['Costo Actual'] = df['Costo Actual'].str.replace('. ', '.', regex=False)\n",
    "# df['Costo Actual'] = df['Costo Actual'].str.replace(' CL', '', regex=False)\n",
    "# df['Costo Actual'] = df['Costo Actual'].str.replace('NO APLICA', '0', regex=False)\n",
    "# df['Costo Actual'] = df['Costo Actual'].str.replace('/', '', regex=False)\n",
    "# df['Costo Actual'] = df['Costo Actual'].astype(float)"
   ]
  },
  {
   "cell_type": "code",
   "execution_count": 19,
   "metadata": {},
   "outputs": [],
   "source": [
    "# mat = msngo.matrix(df)\n",
    "# mat.axes.tick_params(axis='y', labelsize=30)"
   ]
  },
  {
   "cell_type": "code",
   "execution_count": 20,
   "metadata": {},
   "outputs": [],
   "source": [
    "# data_cvo = df.isna().sum().sort_values(ascending=False)\n",
    "# df_temp = pd.DataFrame({'columna': data_cvo.values})\n",
    "# df_temp.index = data_cvo.index\n",
    "# df_temp = df_temp.sort_values(by='columna',ascending=False)\n",
    "# df_temp[\"cumper\"] = df_temp[\"columna\"].cumsum()/df_temp[\"columna\"].sum()*100\n",
    "\n",
    "\n",
    "# fig, ax = plt.subplots(figsize=(10,5))\n",
    "# ax.bar(df_temp.index, df_temp[\"columna\"], color=\"C0\")\n",
    "# ax2 = ax.twinx()\n",
    "# ax2.plot(df_temp.index, df_temp[\"cumper\"], color=\"C1\", marker=\"D\", ms=7)\n",
    "# ax2.yaxis.set_major_formatter(PercentFormatter())\n",
    "\n",
    "# ax.tick_params(axis=\"y\", colors=\"C0\")\n",
    "# ax.tick_params(axis=\"x\", rotation=80)\n",
    "# ax2.tick_params(axis=\"y\", colors=\"C1\")\n",
    "# plt.title('Gráfico de Pareto para la distribución de celdas vacias')\n",
    "# plt.show()"
   ]
  },
  {
   "cell_type": "code",
   "execution_count": 21,
   "metadata": {},
   "outputs": [],
   "source": [
    "df['Descripción'] = df['Descripción'].str.replace('ALJIBE PARA AGUA','REMOLQUE ALJIBE', regex=False)\n",
    "df['Descripción'] = df['Descripción'].str.replace('MINI CARGADOR','MINICARGADOR', regex=False)\n",
    "df['Descripción'] = df['Descripción'].str.replace('MONTACARGA CON HORQUILLA','MONTACARGA', regex=False)\n",
    "df['Descripción'] = df['Descripción'].str.replace('MOTO PARA NIEVE','MOTO DE NIEVE', regex=False)\n",
    "df['Descripción'] = df['Descripción'].str.replace('STATION WAGON','SUV', regex=False)\n",
    "df['Descripción'] = df['Descripción'].str.replace('SEMIREMOLQUE CAMA BAJA','SEMIREMOLQUE', regex=False)\n",
    "df['Descripción'] = df['Descripción'].str.replace('SEMIREMOLQUE EQUIPO LOGISTICO','SEMIREMOLQUE', regex=False)\n",
    "df['Descripción'] = df['Descripción'].str.replace('SEMIREMOLQUE DE CARGA','SEMIREMOLQUE', regex=False)\n",
    "df['Descripción'] = df['Descripción'].str.replace('REMOLQUE DE CARGA','REMOLQUE', regex=False)\n",
    "df['Descripción'] = df['Descripción'].str.replace('REMOLQUE ESTANQUE','REMOLQUE', regex=False)\n",
    "df['Descripción'] = df['Descripción'].str.replace('REMOLQUE PARA USO EN NIEVE','REMOLQUE', regex=False)\n",
    "df['Descripción'] = df['Descripción'].str.replace('REMOLQUE EQUIPO LOGISTICO','REMOLQUE', regex=False)\n",
    "df['Descripción'] = df['Descripción'].str.replace('REMOLQUE ALJIBE','REMOLQUE', regex=False)\n",
    "df['Descripción'] = df['Descripción'].str.replace('REMOLQUE LIVIANO','REMOLQUE', regex=False)\n",
    "df['Descripción'] = df['Descripción'].str.replace('REMOLQUE TRIPLE (MOTOCICLETA)','REMOLQUE', regex=False)\n",
    "df['Descripción'] = df['Descripción'].str.replace('REMOLQUE TRIPLE','REMOLQUE', regex=False)\n",
    "df['Descripción'] = df['Descripción'].str.replace('REMOLQUE DE ARRASTRE ANIMAL (USO AGRICOLA)','REMOLQUE', regex=False)\n",
    "df['Descripción'] = df['Descripción'].str.replace('REMOLQUE MB 2300W','REMOLQUE', regex=False)\n",
    "df['Descripción'] = df['Descripción'].str.replace('REMOLQUE PESADO','REMOLQUE', regex=False)\n",
    "df['Descripción'] = df['Descripción'].str.replace('REMOLQUE CARGA (CUADRIMOTO)','REMOLQUE', regex=False)\n",
    "df['Descripción'] = df['Descripción'].str.replace('TRINEO DE ARRASTRE PARA MOTO DE NIEVE','TRINEO DE ARRASTRE', regex=False)\n",
    "df['Descripción'] = df['Descripción'].str.replace('TRINEO DE ARRASTRE ORION PARA MOTO DE NIEVE','TRINEO DE ARRASTRE', regex=False)\n",
    "df['Descripción'] = df['Descripción'].str.replace('TRACTOR AGRICOLA','TRACTOR', regex=False)\n",
    "df['Descripción'] = df['Descripción'].str.replace('CAMIONETA DE TRASNPORTE PERSONAL','CAMIONETA', regex=False)\n",
    "df['Descripción'] = df['Descripción'].str.replace('CAMIONETA TRASNPORTE PERSONAL','CAMIONETA', regex=False)\n",
    "df['Descripción'] = df['Descripción'].str.replace('CAMIONETA TRASNPORTE SHELTER','CAMIONETA', regex=False)\n",
    "df['Descripción'] = df['Descripción'].str.replace('CAMIÓN','CAMION', regex=False)\n",
    "df['Descripción'] = df['Descripción'].str.replace('CAMION TRASNPORTE SHELTER','CAMION', regex=False)\n",
    "df['Descripción'] = df['Descripción'].str.replace('CAMION TRANSPORTE SHELTER','CAMION', regex=False)\n",
    "df['Descripción'] = df['Descripción'].str.replace('JEEP DE TRASNPORTE','JEEP', regex=False)\n",
    "df['Descripción'] = df['Descripción'].str.replace('CAMIONETA PARA ESTACION REPETIDORA','CAMIONETA', regex=False)\n",
    "df['Descripción'] = df['Descripción'].str.replace('REMOLQUE ALGIBE','REMOLQUE', regex=False)\n",
    "# df['Descripción'] = df['Descripción'].str.replace(' CAMA BAJA ','CAMA BAJA', regex=False)\n",
    "df['Descripción'] = df['Descripción'].str.replace('CAMION DE TRANSPORTE','CAMION', regex=False)"
   ]
  },
  {
   "cell_type": "code",
   "execution_count": 22,
   "metadata": {},
   "outputs": [],
   "source": [
    "df['Marca'] = df['Marca'].str.replace('ALTO AMERICAN- LINCOLN','AMERICAN LINCOLN', regex=False)\n",
    "df['Marca'] = df['Marca'].str.replace('AM GENERAL','AM GEN', regex=False)\n",
    "df['Marca'] = df['Marca'].str.replace('AM GEN','AM GENERAL', regex=False)\n",
    "df['Marca'] = df['Marca'].str.replace('ASIA MOTORS','ASIA', regex=False)\n",
    "df['Marca'] = df['Marca'].str.replace('ASIA','ASIA MOTORS', regex=False)\n",
    "df['Marca'] = df['Marca'].str.replace('BARRETT','BARRET', regex=False)\n",
    "df['Marca'] = df['Marca'].str.replace('BARRET','BARRETT', regex=False)\n",
    "df['Marca'] = df['Marca'].str.replace('BEIT ALFA TRAILER CO','BEIT ALFA', regex=False)\n",
    "df['Marca'] = df['Marca'].str.replace('BEIT-ALFA TRAILER CO.','BEIT ALFA', regex=False)\n",
    "df['Marca'] = df['Marca'].str.replace('BLUMHART','BLUMHARDT', regex=False)\n",
    "df['Marca'] = df['Marca'].str.replace('BOBCAT INGERSOLL RAND','BOBCAT', regex=False)\n",
    "df['Marca'] = df['Marca'].str.replace('BOBCAT MODELO S630 FULLJ','BOBCAT', regex=False)\n",
    "df['Marca'] = df['Marca'].str.replace('BOMBARDIER BRP SKI DOO','BOMBARDIER', regex=False)\n",
    "df['Marca'] = df['Marca'].str.replace('BOX/CB2.SANCHEZ/Balatas,Neumaticos,Correa distribucion y turbo con eje gastados','', regex=False)\n",
    "df['Marca'] = df['Marca'].str.replace('BROCK HOUSE','BROCKHOUSE', regex=False)\n",
    "df['Marca'] = df['Marca'].str.replace('CARDOEN','CARDOEN-MOWAG', regex=False)\n",
    "df['Marca'] = df['Marca'].str.replace('CATARPILLAR','CATERPILLAR', regex=False)\n",
    "df['Marca'] = df['Marca'].str.replace('CATERPILAR','CATERPILLAR', regex=False)\n",
    "df['Marca'] = df['Marca'].str.replace('CATERPILLAR 130-G','CATERPILLAR', regex=False)\n",
    "df['Marca'] = df['Marca'].str.replace('CATERPILLAR D6D','CATERPILLAR', regex=False)\n",
    "df['Marca'] = df['Marca'].str.replace('COMAND CAR','COMMANDCAR', regex=False)\n",
    "df['Marca'] = df['Marca'].str.replace('COMANDCAR','COMMANDCAR', regex=False)\n",
    "df['Marca'] = df['Marca'].str.replace('COMMANCAR','COMMANDCAR', regex=False)\n",
    "df['Marca'] = df['Marca'].str.replace('COMMAND CAR','COMMANDCAR', regex=False)\n",
    "df['Marca'] = df['Marca'].str.replace('CUSTROM','CUSTOM', regex=False)\n",
    "df['Marca'] = df['Marca'].str.replace('DAHIATSU','DAIHATSU', regex=False)\n",
    "df['Marca'] = df['Marca'].str.replace('FDERAL MOTOR COMPANY','FEDERAL MOTOR COMPANY', regex=False)\n",
    "df['Marca'] = df['Marca'].str.replace('FEDERAL MOTOR COMPANY','FEDERAL', regex=False)\n",
    "df['Marca'] = df['Marca'].str.replace('FEDERAL','FEDERAL MOTOR COMPANY', regex=False)\n",
    "df['Marca'] = df['Marca'].str.replace('FMC CORPORATION','FEDERAL MOTOR COMPANY', regex=False)\n",
    "df['Marca'] = df['Marca'].str.replace('FORD RANGER','FORD', regex=False)\n",
    "df['Marca'] = df['Marca'].str.replace('HYNDAI','HYUNDAI', regex=False)\n",
    "df['Marca'] = df['Marca'].str.replace('HYUNDAY','HYUNDAI', regex=False)\n",
    "df['Marca'] = df['Marca'].str.replace('HYUYNDAI','HYUNDAI', regex=False)\n",
    "df['Marca'] = df['Marca'].str.replace('ELANTRA','HYUNDAI', regex=False)\n",
    "df['Marca'] = df['Marca'].str.replace('INCA FREUHAUF','INCA', regex=False)\n",
    "df['Marca'] = df['Marca'].str.replace('INCA FRUEHAUF','INCA', regex=False)\n",
    "df['Marca'] = df['Marca'].str.replace('ISUSU','ISUZU', regex=False)\n",
    "df['Marca'] = df['Marca'].str.replace('IZUSU','ISUZU', regex=False)\n",
    "df['Marca'] = df['Marca'].str.replace('JOHNSON','TEST', regex=False)\n",
    "df['Marca'] = df['Marca'].str.replace('JHON DEERE','JOHN', regex=False)\n",
    "df['Marca'] = df['Marca'].str.replace('JOHN DEERE','JOHN', regex=False)\n",
    "df['Marca'] = df['Marca'].str.replace('JHON DEER','JOHN', regex=False)\n",
    "df['Marca'] = df['Marca'].str.replace('JOHN','JOHN DEERE', regex=False)\n",
    "df['Marca'] = df['Marca'].str.replace('TEST','JOHNSON', regex=False)\n",
    "df['Marca'] = df['Marca'].str.replace('KIA MOTORS','KIA', regex=False)\n",
    "df['Marca'] = df['Marca'].str.replace('KIA SORENTO','KIA', regex=False)\n",
    "df['Marca'] = df['Marca'].str.replace('KOMATSU PC 130-8','KOMATSU', regex=False)\n",
    "df['Marca'] = df['Marca'].str.replace('M/BENZ','MERCEDES BENZ', regex=False)\n",
    "df['Marca'] = df['Marca'].str.replace('MERC. BENZ','MERCEDES BENZ', regex=False)\n",
    "df['Marca'] = df['Marca'].str.replace('MERCEDEZ BENZ','MERCEDES BENZ', regex=False)\n",
    "df['Marca'] = df['Marca'].str.replace('MERCEDEZ-BENZ','MERCEDES BENZ', regex=False)\n",
    "df['Marca'] = df['Marca'].str.replace('MERCEDES BENZ   ','MERCEDES BENZ', regex=False)\n",
    "df['Marca'] = df['Marca'].str.replace('MERCEDES BENZ\\t','MERCEDES BENZ', regex=False)\n",
    "df['Marca'] = df['Marca'].str.replace('MAK','MACK', regex=False)\n",
    "df['Marca'] = df['Marca'].str.replace('nissan','NISSAN', regex=False)\n",
    "df['Marca'] = df['Marca'].str.replace('NETZER SERENI','NETZER', regex=False)\n",
    "df['Marca'] = df['Marca'].str.replace('N.A','', regex=False)\n",
    "df['Marca'] = df['Marca'].str.replace('N.A.','', regex=False)\n",
    "df['Marca'] = df['Marca'].str.replace('SIM MARCA','', regex=False)\n",
    "df['Marca'] = df['Marca'].str.replace('SIN INFORMACION','', regex=False)\n",
    "df['Marca'] = df['Marca'].str.replace('SIN MARCA','', regex=False)\n",
    "df['Marca'] = df['Marca'].str.replace('NO APLICA','', regex=False)\n",
    "df['Marca'] = df['Marca'].str.replace('S/M','', regex=False)\n",
    "df['Marca'] = df['Marca'].str.replace('POLARIS DEFENSE','POLARIS', regex=False)\n",
    "df['Marca'] = df['Marca'].str.replace('POLARIS','DEFENSE', regex=False)\n",
    "df['Marca'] = df['Marca'].str.replace('RANDOM','RANDON', regex=False)\n",
    "df['Marca'] = df['Marca'].str.replace('TECNOVE SEGURITY','TECNOVE SECURITY', regex=False)\n",
    "df['Marca'] = df['Marca'].str.replace('TOYOTA CAMRI','TOYOTA', regex=False)\n",
    "df['Marca'] = df['Marca'].str.replace('TOYOTA LAND CRUISER II','TOYOTA', regex=False)\n",
    "df['Marca'] = df['Marca'].str.replace('TOYOTA LAND CRUISER','TOYOTA', regex=False)\n",
    "df['Marca'] = df['Marca'].str.replace('WILLYS BANTAM','WILLYS', regex=False)\n",
    "df['Marca'] = df['Marca'].str.replace('SUZUKY','SUZUKI', regex=False)\n",
    "df['Marca'] = df['Marca'].str.replace('ZUZUKI DR 350','SUZUKI', regex=False)\n",
    "df['Marca'] = df['Marca'].str.replace('AUTOMOTIVE INDUSTRIES LTDA','AUTOMOTIVE INDUSTRIES LTD', regex=False)\n",
    "df['Marca'] = df['Marca'].str.replace('AUTOMOVILE INDUST LTDA','AUTOMOTIVE INDUSTRIES LTD', regex=False)\n",
    "df['Marca'] = df['Marca'].str.replace('BUICK SGM6531UAAA','BUICK', regex=False)\n",
    "df['Marca'] = df['Marca'].str.replace('CHEVROLET DMAX','CHEVROLET', regex=False)\n",
    "df['Marca'] = df['Marca'].str.replace('FORD AMBULANCIA','FORD', regex=False)\n",
    "df['Marca'] = df['Marca'].str.replace('LIFTKING LK 630 R','LIFTKING', regex=False)\n",
    "df['Marca'] = df['Marca'].str.replace('METALBERT LTDA.','METALBERT', regex=False)\n",
    "df['Marca'] = df['Marca'].str.replace('METALVERT LTDA.','METALBERT', regex=False)\n",
    "df['Marca'] = df['Marca'].str.replace('MITSIBISHI','MITSUBISHI', regex=False)\n",
    "df['Marca'] = df['Marca'].str.replace('MITSUBISHI KATANA','MITSUBISHI', regex=False)\n",
    "df['Marca'] = df['Marca'].str.replace('TECNOVE SECURITY','TECNOVE', regex=False)\n",
    "df['Marca'] = df['Marca'].str.replace('.','', regex=False)"
   ]
  },
  {
   "cell_type": "code",
   "execution_count": 23,
   "metadata": {},
   "outputs": [],
   "source": [
    "# pd.options.display.max_rows = None\n",
    "temp = df['Marca'].value_counts().reset_index().rename(columns={'index':'Marca', 'Marca':'Cantidad'}).sort_values(by='Marca', ascending=True)\n",
    "# print(len(temp))\n",
    "# temp"
   ]
  },
  {
   "cell_type": "code",
   "execution_count": 24,
   "metadata": {},
   "outputs": [
    {
     "data": {
      "text/html": [
       "<div>\n",
       "<style scoped>\n",
       "    .dataframe tbody tr th:only-of-type {\n",
       "        vertical-align: middle;\n",
       "    }\n",
       "\n",
       "    .dataframe tbody tr th {\n",
       "        vertical-align: top;\n",
       "    }\n",
       "\n",
       "    .dataframe thead th {\n",
       "        text-align: right;\n",
       "    }\n",
       "</style>\n",
       "<table border=\"1\" class=\"dataframe\">\n",
       "  <thead>\n",
       "    <tr style=\"text-align: right;\">\n",
       "      <th></th>\n",
       "      <th>Modelo</th>\n",
       "      <th>Cantidad</th>\n",
       "    </tr>\n",
       "  </thead>\n",
       "  <tbody>\n",
       "    <tr>\n",
       "      <th>0</th>\n",
       "      <td>1017-A</td>\n",
       "      <td>532</td>\n",
       "    </tr>\n",
       "    <tr>\n",
       "      <th>1</th>\n",
       "      <td>UNIMOG 1300L</td>\n",
       "      <td>446</td>\n",
       "    </tr>\n",
       "    <tr>\n",
       "      <th>2</th>\n",
       "      <td>UNIMOG 4000</td>\n",
       "      <td>185</td>\n",
       "    </tr>\n",
       "    <tr>\n",
       "      <th>3</th>\n",
       "      <td>ATEGO 1023-A</td>\n",
       "      <td>103</td>\n",
       "    </tr>\n",
       "    <tr>\n",
       "      <th>4</th>\n",
       "      <td>SPRINTER</td>\n",
       "      <td>67</td>\n",
       "    </tr>\n",
       "    <tr>\n",
       "      <th>...</th>\n",
       "      <td>...</td>\n",
       "      <td>...</td>\n",
       "    </tr>\n",
       "    <tr>\n",
       "      <th>138</th>\n",
       "      <td>COMIL VERSATILE OF 1721/52</td>\n",
       "      <td>1</td>\n",
       "    </tr>\n",
       "    <tr>\n",
       "      <th>139</th>\n",
       "      <td>ZETROS 1833A</td>\n",
       "      <td>1</td>\n",
       "    </tr>\n",
       "    <tr>\n",
       "      <th>140</th>\n",
       "      <td>M-1721</td>\n",
       "      <td>1</td>\n",
       "    </tr>\n",
       "    <tr>\n",
       "      <th>141</th>\n",
       "      <td>COMIL</td>\n",
       "      <td>1</td>\n",
       "    </tr>\n",
       "    <tr>\n",
       "      <th>142</th>\n",
       "      <td>LO 914</td>\n",
       "      <td>1</td>\n",
       "    </tr>\n",
       "  </tbody>\n",
       "</table>\n",
       "<p>143 rows × 2 columns</p>\n",
       "</div>"
      ],
      "text/plain": [
       "                         Modelo  Cantidad\n",
       "0                        1017-A       532\n",
       "1                  UNIMOG 1300L       446\n",
       "2                   UNIMOG 4000       185\n",
       "3                  ATEGO 1023-A       103\n",
       "4                      SPRINTER        67\n",
       "..                          ...       ...\n",
       "138  COMIL VERSATILE OF 1721/52         1\n",
       "139                ZETROS 1833A         1\n",
       "140                      M-1721         1\n",
       "141                       COMIL         1\n",
       "142                      LO 914         1\n",
       "\n",
       "[143 rows x 2 columns]"
      ]
     },
     "execution_count": 24,
     "metadata": {},
     "output_type": "execute_result"
    }
   ],
   "source": [
    "pd.options.display.max_rows = 10\n",
    "df[df['Marca']==temp['Marca'][0]]['Modelo'].value_counts().reset_index().rename(columns={'index':'Modelo', 'Modelo':'Cantidad'})#.sort_values(by='Modelo', ascending=True)"
   ]
  },
  {
   "cell_type": "code",
   "execution_count": 25,
   "metadata": {},
   "outputs": [
    {
     "name": "stderr",
     "output_type": "stream",
     "text": [
      "C:\\Users\\Lanzet\\AppData\\Local\\Programs\\Python\\Python38\\lib\\site-packages\\pandas\\core\\generic.py:6383: SettingWithCopyWarning: \n",
      "A value is trying to be set on a copy of a slice from a DataFrame\n",
      "\n",
      "See the caveats in the documentation: https://pandas.pydata.org/pandas-docs/stable/user_guide/indexing.html#returning-a-view-versus-a-copy\n",
      "  return self._update_inplace(result)\n"
     ]
    }
   ],
   "source": [
    "df_temp = df[df['Marca']==temp['Marca'][0]]['Modelo']\n",
    "df_temp.fillna('SIN MODELO', inplace=True)\n",
    "df_temp = df_temp.str.replace('M-', 'M ', regex=False)\n",
    "df_temp = df_temp.str.replace('-', '', regex=False)"
   ]
  },
  {
   "cell_type": "code",
   "execution_count": 26,
   "metadata": {},
   "outputs": [],
   "source": [
    "palabras = []\n",
    "cambios = []\n",
    "for i, n in enumerate(df_temp):\n",
    "    match_w_n_w = re.findall(\"(([A-Z]+)([0-9]+)([A-Z]+))\", n)\n",
    "    match_n_w = re.findall(\"(([0-9]+)([A-Z]+))\", n)\n",
    "    match_w_n = re.findall(\"(([A-Z]+)([0-9]+))\", n)\n",
    "    if match_w_n_w:\n",
    "        palabras.append(match_w_n_w[0][0])\n",
    "        b = []\n",
    "        for (j, m) in list(enumerate(match_w_n_w[0]))[1:]:\n",
    "            b.append(m)\n",
    "        cambios.append(' '.join(b))\n",
    "    elif match_n_w:\n",
    "        palabras.append(match_n_w[0][0])\n",
    "        b = []\n",
    "        for (j, m) in list(enumerate(match_n_w[0]))[1:]:\n",
    "            b.append(m)\n",
    "        cambios.append(' '.join(b))\n",
    "    elif match_w_n:\n",
    "        palabras.append(match_w_n[0][0])\n",
    "        b = []\n",
    "        for (j, m) in list(enumerate(match_w_n[0]))[1:]:\n",
    "            b.append(m)\n",
    "        cambios.append(' '.join(b))\n",
    "palabra_cambio = dict(zip(palabras, cambios))"
   ]
  },
  {
   "cell_type": "code",
   "execution_count": 27,
   "metadata": {},
   "outputs": [],
   "source": [
    "for i, n in enumerate(palabra_cambio):\n",
    "    df_temp = df_temp.str.replace(n, palabra_cambio[n], regex=False)"
   ]
  },
  {
   "cell_type": "code",
   "execution_count": 28,
   "metadata": {},
   "outputs": [],
   "source": [
    "df_temp = df_temp.str.replace('VERSATILE', 'VERSATIL', regex=False)\n",
    "df_temp = df_temp.str.replace('VERSATIL', 'VERSATILE', regex=False)\n",
    "df_temp = df_temp.str.replace('VICTORIA', 'VITORIA', regex=False)\n",
    "df_temp = df_temp.str.replace('COMILVERSATILE', 'COMIL VERSATILE', regex=False)\n",
    "df_temp = df_temp.str.replace('H 1', 'H1', regex=False)"
   ]
  },
  {
   "cell_type": "code",
   "execution_count": 29,
   "metadata": {},
   "outputs": [],
   "source": [
    "stop_words = frozenset(['verde', 'modelo'])\n",
    "vectorizer = CountVectorizer(analyzer='word',       \n",
    "                             min_df=5,                        # minimum read occurences of a word \n",
    "                             stop_words=stop_words,             # remove stop words\n",
    "                             strip_accents='unicode',\n",
    "                             lowercase=True,                   # convert all words to lowercase\n",
    "                             token_pattern='[a-zA-Z0-9]{2,}',  # num chars > 3\n",
    "                             max_features=5000,               # max number of uniq words\n",
    "                            )\n",
    "\n",
    "data_vectorized = vectorizer.fit_transform(df_temp)"
   ]
  },
  {
   "cell_type": "code",
   "execution_count": 30,
   "metadata": {},
   "outputs": [],
   "source": [
    "words = vectorizer.get_feature_names()\n",
    "words_freq = data_vectorized.toarray().sum(axis= 0)\n",
    "tops = pd.DataFrame(list(zip(words, words_freq)), columns =['Words', 'Freq']).sort_values(by = 'Freq', ascending=False).reset_index(drop=True)\n",
    "tops['Log_Freq'] = np.log(tops['Freq'])"
   ]
  },
  {
   "cell_type": "code",
   "execution_count": 31,
   "metadata": {},
   "outputs": [
    {
     "data": {
      "text/html": [
       "<div>\n",
       "<style scoped>\n",
       "    .dataframe tbody tr th:only-of-type {\n",
       "        vertical-align: middle;\n",
       "    }\n",
       "\n",
       "    .dataframe tbody tr th {\n",
       "        vertical-align: top;\n",
       "    }\n",
       "\n",
       "    .dataframe thead th {\n",
       "        text-align: right;\n",
       "    }\n",
       "</style>\n",
       "<table border=\"1\" class=\"dataframe\">\n",
       "  <thead>\n",
       "    <tr style=\"text-align: right;\">\n",
       "      <th></th>\n",
       "      <th>Words</th>\n",
       "      <th>Freq</th>\n",
       "      <th>Log_Freq</th>\n",
       "    </tr>\n",
       "  </thead>\n",
       "  <tbody>\n",
       "    <tr>\n",
       "      <th>0</th>\n",
       "      <td>unimog</td>\n",
       "      <td>770</td>\n",
       "      <td>6.646391</td>\n",
       "    </tr>\n",
       "    <tr>\n",
       "      <th>1</th>\n",
       "      <td>1017</td>\n",
       "      <td>604</td>\n",
       "      <td>6.403574</td>\n",
       "    </tr>\n",
       "    <tr>\n",
       "      <th>2</th>\n",
       "      <td>1300</td>\n",
       "      <td>556</td>\n",
       "      <td>6.320768</td>\n",
       "    </tr>\n",
       "    <tr>\n",
       "      <th>3</th>\n",
       "      <td>atego</td>\n",
       "      <td>261</td>\n",
       "      <td>5.564520</td>\n",
       "    </tr>\n",
       "    <tr>\n",
       "      <th>4</th>\n",
       "      <td>4000</td>\n",
       "      <td>238</td>\n",
       "      <td>5.472271</td>\n",
       "    </tr>\n",
       "    <tr>\n",
       "      <th>...</th>\n",
       "      <td>...</td>\n",
       "      <td>...</td>\n",
       "      <td>...</td>\n",
       "    </tr>\n",
       "    <tr>\n",
       "      <th>52</th>\n",
       "      <td>42</td>\n",
       "      <td>6</td>\n",
       "      <td>1.791759</td>\n",
       "    </tr>\n",
       "    <tr>\n",
       "      <th>53</th>\n",
       "      <td>500</td>\n",
       "      <td>6</td>\n",
       "      <td>1.791759</td>\n",
       "    </tr>\n",
       "    <tr>\n",
       "      <th>54</th>\n",
       "      <td>as</td>\n",
       "      <td>5</td>\n",
       "      <td>1.609438</td>\n",
       "    </tr>\n",
       "    <tr>\n",
       "      <th>55</th>\n",
       "      <td>45</td>\n",
       "      <td>5</td>\n",
       "      <td>1.609438</td>\n",
       "    </tr>\n",
       "    <tr>\n",
       "      <th>56</th>\n",
       "      <td>vito</td>\n",
       "      <td>5</td>\n",
       "      <td>1.609438</td>\n",
       "    </tr>\n",
       "  </tbody>\n",
       "</table>\n",
       "<p>57 rows × 3 columns</p>\n",
       "</div>"
      ],
      "text/plain": [
       "     Words  Freq  Log_Freq\n",
       "0   unimog   770  6.646391\n",
       "1     1017   604  6.403574\n",
       "2     1300   556  6.320768\n",
       "3    atego   261  5.564520\n",
       "4     4000   238  5.472271\n",
       "..     ...   ...       ...\n",
       "52      42     6  1.791759\n",
       "53     500     6  1.791759\n",
       "54      as     5  1.609438\n",
       "55      45     5  1.609438\n",
       "56    vito     5  1.609438\n",
       "\n",
       "[57 rows x 3 columns]"
      ]
     },
     "execution_count": 31,
     "metadata": {},
     "output_type": "execute_result"
    }
   ],
   "source": [
    "pd.options.display.max_rows = 10\n",
    "tops"
   ]
  },
  {
   "cell_type": "code",
   "execution_count": 32,
   "metadata": {},
   "outputs": [
    {
     "data": {
      "image/png": "[encoded data removed]",
      "text/plain": [
       "<Figure size 2160x432 with 1 Axes>"
      ]
     },
     "metadata": {
      "needs_background": "light"
     },
     "output_type": "display_data"
    }
   ],
   "source": [
    "plt.figure(figsize=(30,6))\n",
    "ax=sns.stripplot(data=tops, x='Words', y='Log_Freq')\n",
    "plt.setp(ax.get_xticklabels(),rotation=45)\n",
    "plt.title('Diagrama palabras del set')\n",
    "plt.show()"
   ]
  },
  {
   "cell_type": "code",
   "execution_count": 33,
   "metadata": {},
   "outputs": [
    {
     "data": {
      "text/plain": [
       "2009    2632 AK\n",
       "2010    2632 AK\n",
       "2011       2632\n",
       "2012    2632 AK\n",
       "2013       2632\n",
       "         ...   \n",
       "4031       2632\n",
       "4032       2632\n",
       "4033    2632 AS\n",
       "4034       2632\n",
       "4035       2632\n",
       "Name: Modelo, Length: 114, dtype: object"
      ]
     },
     "execution_count": 33,
     "metadata": {},
     "output_type": "execute_result"
    }
   ],
   "source": [
    "df_temp[df_temp.str.contains('(?i)2632')]"
   ]
  },
  {
   "cell_type": "code",
   "execution_count": 34,
   "metadata": {},
   "outputs": [
    {
     "name": "stderr",
     "output_type": "stream",
     "text": [
      "C:\\Users\\Public\\Documents\\Wondershare\\CreatorTemp/ipykernel_8012/2201119631.py:1: UserWarning: This pattern has match groups. To actually get the groups, use str.extract.\n",
      "  df[df['MMU/PPU'].str.contains(\"([A-Z]+)-([0-9]+)-([0-9]+)\")]['MMU/PPU']\n"
     ]
    },
    {
     "data": {
      "text/plain": [
       "4821    CD-69-034-22\n",
       "5115       CD-20-007\n",
       "Name: MMU/PPU, dtype: object"
      ]
     },
     "execution_count": 34,
     "metadata": {},
     "output_type": "execute_result"
    }
   ],
   "source": [
    "df[df['MMU/PPU'].str.contains(\"([A-Z]+)-([0-9]+)-([0-9]+)\")]['MMU/PPU']"
   ]
  },
  {
   "cell_type": "code",
   "execution_count": 35,
   "metadata": {},
   "outputs": [],
   "source": [
    "df['Combustible']=np.where(df['Combustible'].str.contains('DIESEL'), 'DIESEL', df['Combustible'])\n",
    "df['Combustible']=np.where(df['Combustible'].str.contains('BENCI'), 'BENCINERO', df['Combustible'])\n",
    "df['Combustible']=np.where(df['Combustible'].str.contains('NO APLICA'), 'NO APLICA', df['Combustible'])\n",
    "df['Combustible']=np.where((df['Combustible'].str.contains('NO APLICA')) | (df['Combustible'].str.contains('DIESEL')) | (df['Combustible'].str.contains('BENCI')), df['Combustible'], 'NO APLICA')"
   ]
  },
  {
   "cell_type": "code",
   "execution_count": 36,
   "metadata": {},
   "outputs": [],
   "source": [
    "df['Estanque'] = df['Estanque'].str.extract('(\\d+)', expand=False)\n",
    "df['Estanque'] = pd.to_numeric(df['Estanque'])"
   ]
  },
  {
   "cell_type": "code",
   "execution_count": 37,
   "metadata": {},
   "outputs": [],
   "source": [
    "df_test = df.copy()"
   ]
  },
  {
   "cell_type": "code",
   "execution_count": 38,
   "metadata": {},
   "outputs": [],
   "source": [
    "df_test.to_csv('Clean_Bd_Vehic.csv', encoding='latin-1', index=False)\n",
    "\n",
    "# df_test.to_excel('Clean_Bd_Vehic.xlsx', encoding='latin-1', index=False)"
   ]
  },
  {
   "cell_type": "code",
   "execution_count": 39,
   "metadata": {},
   "outputs": [],
   "source": [
    "df_test.fillna('', inplace=True)"
   ]
  },
  {
   "cell_type": "code",
   "execution_count": 40,
   "metadata": {},
   "outputs": [],
   "source": [
    "df_mowag_sayago = df_test[df_test['Marca'].str.contains('(?i)MOWAG(?i)')][['MMU/PPU', 'Descripción', 'Marca', 'Modelo', 'UAC', 'UR', 'Situación Operacional', 'Condición del Bien', 'Año Fabricación']]"
   ]
  },
  {
   "cell_type": "code",
   "execution_count": 41,
   "metadata": {},
   "outputs": [],
   "source": [
    "df_mowag_sayago['Año Fabricación'] = df_mowag_sayago['Año Fabricación'].astype(int)"
   ]
  },
  {
   "cell_type": "code",
   "execution_count": 42,
   "metadata": {},
   "outputs": [],
   "source": [
    "df_mowag_sayago.to_excel('MOWAG_SAYAGO.xlsx', encoding='latin-1', index=False)"
   ]
  }
 ],
 "metadata": {
  "interpreter": {
   "hash": "abd71ca0273cee8f8830c46ec1e03309f3a1a65fe5bd29f380243a6172077fef"
  },
  "kernelspec": {
   "display_name": "Python 3.8.10 64-bit",
   "name": "python3"
  },
  "language_info": {
   "codemirror_mode": {
    "name": "ipython",
    "version": 3
   },
   "file_extension": ".py",
   "mimetype": "text/x-python",
   "name": "python",
   "nbconvert_exporter": "python",
   "pygments_lexer": "ipython3",
   "version": "3.8.10"
  },
  "metadata": {
   "interpreter": {
    "hash": "abd71ca0273cee8f8830c46ec1e03309f3a1a65fe5bd29f380243a6172077fef"
   }
  },
  "orig_nbformat": 2
 },
 "nbformat": 4,
 "nbformat_minor": 2
}
