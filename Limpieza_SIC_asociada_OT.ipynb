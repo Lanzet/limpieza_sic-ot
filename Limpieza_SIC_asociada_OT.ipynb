{
 "cells": [
  {
   "cell_type": "code",
   "execution_count": 1,
   "metadata": {},
   "outputs": [],
   "source": [
    "# Se cargan las librerias necesarias\n",
    "import re\n",
    "import pandas as pd\n",
    "from pathlib import Path"
   ]
  },
  {
   "cell_type": "code",
   "execution_count": 2,
   "metadata": {},
   "outputs": [],
   "source": [
    "# Se carga el archivo a limpiar, con la consideracion que en el codigo existen 2 tablas principales, escritas como html, la primera tabla tiene los encabezados del reporte, la segunda tabla tiene los datos necesarios\n",
    "_, df_rs = pd.read_html('../Datos/XXEJE_EAM____Reporte_situación_010222.xls', header =0)"
   ]
  },
  {
   "cell_type": "code",
   "execution_count": 3,
   "metadata": {},
   "outputs": [],
   "source": [
    "# Para esta limpieza no se necesitan todas las columnas del reporte\n",
    "df = df_rs[['Nro Ot', 'Estado Sic', 'Nro Referencial', 'Total', 'Numero Sic']]"
   ]
  },
  {
   "cell_type": "code",
   "execution_count": 4,
   "metadata": {},
   "outputs": [
    {
     "name": "stderr",
     "output_type": "stream",
     "text": [
      "C:\\Users\\Lanzet\\AppData\\Local\\Programs\\Python\\Python38\\lib\\site-packages\\pandas\\core\\frame.py:3607: SettingWithCopyWarning: \n",
      "A value is trying to be set on a copy of a slice from a DataFrame.\n",
      "Try using .loc[row_indexer,col_indexer] = value instead\n",
      "\n",
      "See the caveats in the documentation: https://pandas.pydata.org/pandas-docs/stable/user_guide/indexing.html#returning-a-view-versus-a-copy\n",
      "  self._set_item(key, value)\n"
     ]
    }
   ],
   "source": [
    "# Uno de los principales problemas de este reporte es que el numero referencial, es decir, la OT asociada a la SIC, no tiene solo un formato y los usuarios tienden a escribirla de distintas maneras, en esta celda se arreglan la mayoria de los problemas de formato\n",
    "\n",
    "''' TODO: implementar esto como corresponda\n",
    "    change_to_blanck = ['REP-', 'SINMATRICULA', 'S/M']\n",
    "    regular_expression = '[' + re.escape (''. join (change_to_blanck)) + ']'\n",
    "    df['MMU/PPU'] = df['MMU/PPU'].str.replace(regular_expression,'', regex=True)\n",
    "'''\n",
    "\n",
    "df['Nro Referencial'] = df['Nro Referencial'].str.replace('LIBRO','',regex=False)\n",
    "df['Nro Referencial'] = df['Nro Referencial'].str.replace(' ','',regex=False)\n",
    "df['Nro Referencial'] = df['Nro Referencial'].str.replace('N°','',regex=False)\n",
    "df['Nro Referencial'] = df['Nro Referencial'].str.replace('N.°','',regex=False)\n",
    "df['Nro Referencial'] = df['Nro Referencial'].str.replace('Nº','',regex=False)\n",
    "df['Nro Referencial'] = df['Nro Referencial'].str.replace('Nª','',regex=False)\n",
    "\n",
    "df['Nro Referencial'] = df['Nro Referencial'].str.replace('OT ','OT/',regex=False)\n",
    "df['Nro Referencial'] = df['Nro Referencial'].str.replace('O/T','OT/',regex=False)\n",
    "df['Nro Referencial'] = df['Nro Referencial'].str.replace('O/Y','OT/',regex=False)\n",
    "df['Nro Referencial'] = df['Nro Referencial'].str.replace('OT-','OT/',regex=False)\n",
    "df['Nro Referencial'] = df['Nro Referencial'].str.replace('OT.','OT/',regex=False)\n",
    "df['Nro Referencial'] = df['Nro Referencial'].str.replace('OT:','OT/',regex=False)\n",
    "df['Nro Referencial'] = df['Nro Referencial'].str.replace('OT;','OT/',regex=False)\n",
    "df['Nro Referencial'] = df['Nro Referencial'].str.replace('OT/:','OT/',regex=False)\n",
    "df['Nro Referencial'] = df['Nro Referencial'].str.replace('OT/-','OT/',regex=False)\n",
    "df['Nro Referencial'] = df['Nro Referencial'].str.replace('OT/.','OT/',regex=False)\n",
    "df['Nro Referencial'] = df['Nro Referencial'].str.replace('0/T','OT/',regex=False)\n",
    "\n",
    "df['Nro Referencial'] = df['Nro Referencial'].str.replace('.','',regex=False)\n",
    "df['Nro Referencial'] = df['Nro Referencial'].str.replace('//','/',regex=False)\n",
    "df['Nro Referencial'] = df['Nro Referencial'].str.replace('Y',',',regex=False)\n",
    "df['Nro Referencial'] = df['Nro Referencial'].str.replace('y',',',regex=False)\n",
    "df['Nro Referencial'] = df['Nro Referencial'].str.replace(';',',',regex=False)\n",
    "\n",
    "df['Nro Referencial'] = df['Nro Referencial'].str.replace('-',',',regex=False)\n",
    "df['Nro Referencial'] = df['Nro Referencial'].str.replace('_',',',regex=False)\n",
    "df['Nro Referencial'] = df['Nro Referencial'].str.replace('(MANUAL)','',regex=False)\n",
    "df['Nro Referencial'] = df['Nro Referencial'].str.replace('MANUAL','',regex=False)\n",
    "df['Nro Referencial'] = df['Nro Referencial'].str.replace(')','',regex=False)\n",
    "df['Nro Referencial'] = df['Nro Referencial'].str.replace('(',',',regex=False)\n",
    "df['Nro Referencial'] = df['Nro Referencial'].str.replace('NUMERODE','',regex=False)\n",
    "df['Nro Referencial'] = df['Nro Referencial'].str.replace('NUMEROSDE','',regex=False)\n",
    "df['Nro Referencial'] = df['Nro Referencial'].str.replace('NOT','OT',regex=False)\n",
    "\n",
    "df['Nro Referencial'] = df['Nro Referencial'].str.replace('CMA','',regex=False)\n",
    "df['Nro Referencial'] = df['Nro Referencial'].str.replace('PIC/','',regex=False)\n",
    "df['Nro Referencial'] = df['Nro Referencial'].str.replace('/2014','',regex=False)\n",
    "df['Nro Referencial'] = df['Nro Referencial'].str.replace('/2015','',regex=False)\n",
    "df['Nro Referencial'] = df['Nro Referencial'].str.replace('/2016','',regex=False)\n",
    "df['Nro Referencial'] = df['Nro Referencial'].str.replace('/2017','',regex=False)\n",
    "df['Nro Referencial'] = df['Nro Referencial'].str.replace('/2018','',regex=False)\n",
    "df['Nro Referencial'] = df['Nro Referencial'].str.replace('/2019','',regex=False)\n",
    "df['Nro Referencial'] = df['Nro Referencial'].str.replace('/2020','',regex=False)\n",
    "df['Nro Referencial'] = df['Nro Referencial'].str.replace('/2021','',regex=False)\n",
    "df['Nro Referencial'] = df['Nro Referencial'].str.replace('de2019','',regex=False)\n",
    "df['Nro Referencial'] = df['Nro Referencial'].str.replace('OTL','OT/',regex=False)\n",
    "df['Nro Referencial'] = df['Nro Referencial'].str.replace('OT/,','OT/',regex=False)\n",
    "df['Nro Referencial'] = df['Nro Referencial'].str.replace('A,','OT/',regex=False)"
   ]
  },
  {
   "cell_type": "code",
   "execution_count": 5,
   "metadata": {},
   "outputs": [],
   "source": [
    "# Ahora creo una copia del DataFrame, para trabajar la info\n",
    "df_temp = df[['Nro Ot', 'Estado Sic', 'Nro Referencial', 'Total']]"
   ]
  },
  {
   "cell_type": "code",
   "execution_count": 6,
   "metadata": {},
   "outputs": [
    {
     "name": "stderr",
     "output_type": "stream",
     "text": [
      "C:\\Users\\Lanzet\\AppData\\Local\\Programs\\Python\\Python38\\lib\\site-packages\\pandas\\core\\indexing.py:1817: SettingWithCopyWarning: \n",
      "A value is trying to be set on a copy of a slice from a DataFrame.\n",
      "Try using .loc[row_indexer,col_indexer] = value instead\n",
      "\n",
      "See the caveats in the documentation: https://pandas.pydata.org/pandas-docs/stable/user_guide/indexing.html#returning-a-view-versus-a-copy\n",
      "  self._setitem_single_column(loc, value, pi)\n"
     ]
    }
   ],
   "source": [
    "# En los siguientes pasos voy a crear los pasos para separar las OTs asociadas a una SIC. El reporte trabaja con las SIC como PK, mientras que yo necesito las OTs como PK\n",
    "\n",
    "# Comienzo con hacer que las OTs tengan un formato estándar, si la celda tiene solo una OT y solo números, le agrego 'OT/' al principio\n",
    "for i, n in enumerate(df_temp['Nro Referencial']):    \n",
    "    if (re.match(r'[0-9]{2,7}$', n)):\n",
    "        df_temp.loc[i, 'Nro Referencial'] = 'OT/'+str(n)"
   ]
  },
  {
   "cell_type": "code",
   "execution_count": 7,
   "metadata": {},
   "outputs": [],
   "source": [
    "# Ahora si la celda contiene una OT con el formato 'OT/12341234', la guardo como tal\n",
    "for i, n in enumerate(df_temp['Nro Referencial']):\n",
    "    if (re.match(r'[A-Z]{2}/[0-9]{2,7}$', n)):\n",
    "        df_temp.loc[i, 'Nro Ot'] = n"
   ]
  },
  {
   "cell_type": "code",
   "execution_count": 8,
   "metadata": {},
   "outputs": [],
   "source": [
    "# Ahora separo las SIC aprobadas o en proceso, ya que estas son las que deberían tener OTs asociadas, y creo dos DataFrames, uno con las OTs asociadas a las SIC, y otro con numeros de OTs que aun no estan en un formato estándar o que tienen mas de una OT asociada\n",
    "temp = df_temp[(df_temp['Estado Sic'] == 'APPROVED') | (df_temp['Estado Sic']=='IN PROCESS')]\n",
    "temp1 = temp[(temp['Nro Referencial']==temp['Nro Ot'])].reset_index(drop=True)\n",
    "temp2 = temp[(temp['Nro Referencial']!=temp['Nro Ot'])].reset_index(drop=True)"
   ]
  },
  {
   "cell_type": "code",
   "execution_count": 9,
   "metadata": {},
   "outputs": [],
   "source": [
    "# Agrupo las OTs que tienen solo una OT asosciada sumando los montos de las SIC asociadas, y me quedo solo las OTs que tienen mas 3 numeros, asumo que las OTs con menos números no son OTs del sistema, si no algun numero interno de las unidades\n",
    "fin1 = temp1.groupby(['Nro Ot']).sum().reset_index()\n",
    "fin1 = fin1[fin1['Nro Ot'].str.len()>6]"
   ]
  },
  {
   "cell_type": "code",
   "execution_count": 10,
   "metadata": {},
   "outputs": [],
   "source": [
    "# Para identificar las celdas que tienen mas de una OT asociada, comienzo con solo exponer los números de estas, para hacer mas simple su tratamiento mas adelante\n",
    "temp2['Nro Referencial'] = temp2['Nro Referencial'].str.replace('OT/','',regex=False)\n",
    "temp2['Nro Referencial'] = temp2['Nro Referencial'].str.replace('OT','',regex=False)"
   ]
  },
  {
   "cell_type": "code",
   "execution_count": 11,
   "metadata": {},
   "outputs": [],
   "source": [
    "# Ahora se separan los numeros de las OTs y se separan por una coma. Hasta la fecha encontre dos formas en que se han ingresado estos numeros. La primera son dos OTs asociadas a una SIC y la segunda es tres asociadas a una SIC, para separarlas lo hago con una coma\n",
    "for i,n in enumerate(temp2['Nro Referencial']):\n",
    "    if (re.match(r'[0-9]{5}[0-9]{5}$', n)):\n",
    "        temp2.loc[i, 'Nro Referencial'] = n[:5]+','+n[5:]\n",
    "    if (re.match(r'[0-9]{6}[0-9]{6}$', n)):\n",
    "        temp2.loc[i, 'Nro Referencial'] = n[:6]+','+n[6:]\n",
    "    if (re.match(r'[0-9]{6}[0-9]{6}[0-9]{6}$', n)):\n",
    "        temp2.loc[i, 'Nro Referencial'] = n[:6]+','+n[6:12]+','+n[12:]"
   ]
  },
  {
   "cell_type": "code",
   "execution_count": 12,
   "metadata": {},
   "outputs": [],
   "source": [
    "# Ahora por cada OT encontrada en el paso anterior, creo un nuevo registro con el numero de la OT y el valor de la SIC repartida entre las OTs encontradas \n",
    "b=False # Este contador existe para ingresar correctamente los numeros de las OTs que los usuarios ingresaron de manera correlativa. Ejemplo: OT/1234, 5, 6, 7. Donde se consideran 4 OTs, la OT/1234, la OT/1235, la OT/1236 y la OT/1237.\n",
    "otes = []\n",
    "valores = []\n",
    "\n",
    "for i, n in enumerate(temp2['Nro Referencial']):\n",
    "    sep = n.split(',')\n",
    "    if len(sep)>1:\n",
    "        if (len(sep[0])>len(sep[1])) and (len(sep[1])<5):\n",
    "            b=True\n",
    "        for j in range(len(sep)):\n",
    "            if b:\n",
    "                otes.append('OT/'+str(sep[0][:-len(sep[j])] + sep[j]))\n",
    "                valores.append(temp2.loc[i, 'Total']/len(sep))\n",
    "            else:\n",
    "                otes.append(str('OT/'+sep[j]))\n",
    "                valores.append(temp2.loc[i, 'Total']/len(sep))\n",
    "        b=False\n",
    "temp3 = pd.DataFrame({'Nro Ot':otes, 'Total':valores})"
   ]
  },
  {
   "cell_type": "code",
   "execution_count": 13,
   "metadata": {},
   "outputs": [],
   "source": [
    "# Luego agrupo las OTs y sumo los valores totales\n",
    "fin2 = temp3.groupby(['Nro Ot']).sum().reset_index()\n",
    "fin2 = fin2[fin2['Nro Ot'].str.len()>6]"
   ]
  },
  {
   "cell_type": "code",
   "execution_count": 14,
   "metadata": {},
   "outputs": [],
   "source": [
    "# Finalmente, concateno los dos DataFrames y me aseguro de que se agrupen las mismas OTs y se sumen todos los valores. Como ultimo paso se crea el archivo de salida\n",
    "df_fin = pd.concat([fin1, fin2], axis=0, ignore_index=True)\n",
    "fin3 = df_fin.groupby(['Nro Ot']).sum().reset_index()\n",
    "fin3.to_csv(Path.cwd() / \"Valores_OT_Asoc_SIC.csv\", index = False)"
   ]
  }
 ],
 "metadata": {
  "interpreter": {
   "hash": "abd71ca0273cee8f8830c46ec1e03309f3a1a65fe5bd29f380243a6172077fef"
  },
  "kernelspec": {
   "display_name": "Python 3.8.10 64-bit",
   "language": "python",
   "name": "python3"
  },
  "language_info": {
   "codemirror_mode": {
    "name": "ipython",
    "version": 3
   },
   "file_extension": ".py",
   "mimetype": "text/x-python",
   "name": "python",
   "nbconvert_exporter": "python",
   "pygments_lexer": "ipython3",
   "version": "3.8.10"
  },
  "orig_nbformat": 4
 },
 "nbformat": 4,
 "nbformat_minor": 2
}
