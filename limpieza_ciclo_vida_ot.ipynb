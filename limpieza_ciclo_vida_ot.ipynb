{
    "cells": [
        {
            "cell_type": "code",
            "execution_count": 1,
            "metadata": {},
            "outputs": [
                {
                    "data": {
                        "text/plain": [
                            "'es_ES'"
                        ]
                    },
                    "execution_count": 1,
                    "metadata": {},
                    "output_type": "execute_result"
                }
            ],
            "source": [
                "import pandas as pd\n",
                "import numpy as np\n",
                "import re\n",
                "from pathlib import Path\n",
                "import lxml\n",
                "import tkinter as tk\n",
                "from tkinter import filedialog\n",
                "from datetime import datetime, timedelta\n",
                "import locale\n",
                "locale.setlocale(locale.LC_ALL, 'es_ES')"
            ]
        },
        {
            "cell_type": "code",
            "execution_count": 2,
            "metadata": {},
            "outputs": [],
            "source": [
                "path = '../Datos/XXEJE_EAM___Ciclo_de_vida_de_ó_010222.xls'\n",
                "# root = tk.Tk()\n",
                "# root.withdraw()\n",
                "\n",
                "# path = filedialog.askopenfilename()\n",
                "with open(path, 'rt', encoding='utf-8') as myfile:\n",
                "    data = myfile.read()#.replace('</span><br/><span class=\"c62\">', ' ').replace('</span><br/><br/><span class=\"c62\">', ' ').replace('</span><br/><br/><br/><span class=\"c62\">', ' ')"
            ]
        },
        {
            "cell_type": "code",
            "execution_count": 3,
            "metadata": {},
            "outputs": [],
            "source": [
                "df_ori = pd.read_html(data, header=0)\n",
                "# df_cvo = df_ori.copy()\n",
                "df_cvo = pd.DataFrame(df_ori[0])"
            ]
        },
        {
            "cell_type": "code",
            "execution_count": 4,
            "metadata": {},
            "outputs": [],
            "source": [
                "# df_cvo = pd.DataFrame(df_ori[0])"
            ]
        },
        {
            "cell_type": "code",
            "execution_count": 5,
            "metadata": {},
            "outputs": [],
            "source": [
                "# df_cvo.info()"
            ]
        },
        {
            "cell_type": "code",
            "execution_count": 6,
            "metadata": {},
            "outputs": [],
            "source": [
                "df_cvo = pd.DataFrame(df_ori[0])\n",
                "# df_cvo.loc[df_cvo['Descripción'].map(type) == datetime, 'Descripción'] = None\n",
                "# df_cvo['Descripción'].replace('MRB', None, inplace=True)\n",
                "\n",
                "df_cvo.dropna(how='all', inplace=True)\n",
                "\n",
                "df_cvo.loc[df_cvo['Descripcion Activo'].isnull(), 'Nulo'] = 'Si'\n",
                "\n",
                "vacios = df_cvo[df_cvo['Nulo']=='Si'].index.values\n",
                "\n",
                "# df_cvo.at[i, 'Descripción'] = [df_cvo.loc[i+1, ['Numero Activo','Descripción']]['Descripción'] for i in vacios]\n",
                "\n",
                "for i in vacios:\n",
                "    # print(df_cvo.loc[i, ['Numero Activo','Descripción']]['Descripción'])\n",
                "    df_cvo.at[i, 'Descripción'] = df_cvo.loc[i+1, ['Numero Activo','Descripción']]['Descripción']\n",
                "\n",
                "df_cvo.drop(columns='Nulo', inplace=True)\n",
                "df_cvo.drop(index=vacios, inplace=True)\n",
                "df_cvo.reset_index(drop=True, inplace=True)\n",
                "df_cvo.drop_duplicates(inplace = True)\n",
                "\n",
                "df_cvo.insert(loc=2, column='PPA_MMU', value=None)\n",
                "df_cvo.insert(loc=5, column='Tipo Ot', value='Principal')\n",
                "df_cvo.insert(loc=6, column='Sistema', value=None)\n",
                "\n",
                "sist = ['Grupo Motopropulsor', 'Alimentacion De Combustible', 'Frenos', 'Rodadura', 'Direccion y Conduccion', 'Suspencion', 'Generacion e Iluminacion', 'Indicacion y Registro', 'Anfibio y Vadeo', 'Guiado de Armamento', 'Observacion y Control de Fuego', 'Armamento Principal', 'No Identificado 13', 'Plataforma Hidraulica', 'Plataforma Estructural', 'Equipamento Zapador / Recuperador', 'Extincion de Incendios', 'Acondicionamiento de Aire', 'Lanza Fumigenos', 'Estructura', 'Equipamiento Estructura', 'No Identificado 22', 'Comunicaciones']\n",
                "\n",
                "for i, sis in enumerate(sist):\n",
                "    # print(str(i+1).zfill(2))\n",
                "    df_cvo['Sistema'] = np.where(((df_cvo['Grupo De Activos']=='GR_SIS.02.0'+str(i+1).zfill(2)) | (df_cvo['Grupo De Activos'].str.contains('GR_SUB.02.0'+str(i+1).zfill(2)))), sis, df_cvo['Sistema'])\n",
                "    \n",
                "df_cvo['Numero Ot Principal'] = np.where(df_cvo['Numero Ot Principal'].str.contains('No tiene'),None,df_cvo['Numero Ot Principal'])\n",
                "df_cvo['Tipo Ot'] = np.where(df_cvo['Numero Ot Principal'].isnull(),df_cvo['Tipo Ot'],'Secundaria')"
            ]
        },
        {
            "cell_type": "code",
            "execution_count": 7,
            "metadata": {},
            "outputs": [],
            "source": [
                "df_cvo['PPA_MMU'] = df_cvo['Descripcion Activo'].str.split('_', expand = True)[0]\n",
                "b=0\n",
                "for i, n in enumerate(df_cvo['PPA_MMU']):\n",
                "    try:\n",
                "        if not (re.match(r'[a-zA-Z0-9]{1,4}-[a-zA-Z0-9]{1,4}$', n)):\n",
                "            # b=2\n",
                "            # print(df_cvo_cvo.loc[i,'Numero Activo'][4:])\n",
                "            m = df_cvo.loc[i,'Numero Activo'][4:]\n",
                "            df_cvo.loc[i,'PPA_MMU'] = m # df_cvo.loc[i,'Numero Activo'][4:]\n",
                "             \n",
                "        # else:\n",
                "            # print(n)\n",
                "    except:\n",
                "        b=1\n",
                "\n",
                "for i, n in enumerate(df_cvo['PPA_MMU']):\n",
                "    try:\n",
                "        if not (re.match(r'[a-zA-Z0-9]{1,4}-[a-zA-Z0-9]{1,4}$', n)):\n",
                "            # b=2\n",
                "            # print(df_cvo_cvo.loc[i,'Descripción Activo'][:7])\n",
                "            df_cvo.loc[i,'PPA_MMU'] = df_cvo.loc[i,'Descripcion Activo'][:7]\n",
                "        # else:\n",
                "            # print(n)\n",
                "    except:\n",
                "        b=1\n",
                "\n",
                "for i, n in enumerate(df_cvo['PPA_MMU']):\n",
                "    try:\n",
                "        if not (re.match(r'[a-zA-Z0-9]{1,4}-[a-zA-Z0-9]{1,4}$', n)):\n",
                "            # print(df_cvo.loc[i,'Descripción Activo'][:7])\n",
                "            # print(n)\n",
                "            df_cvo.loc[i,'PPA_MMU'] = 'SinNumero'\n",
                "        else:\n",
                "            b=2\n",
                "    except:\n",
                "        b=1"
            ]
        },
        {
            "cell_type": "code",
            "execution_count": 8,
            "metadata": {},
            "outputs": [],
            "source": [
                "# df_cvo['PPA_MMU'][df_cvo['PPA_MMU'].isna()] = 'SinNumero'"
            ]
        },
        {
            "cell_type": "code",
            "execution_count": 9,
            "metadata": {},
            "outputs": [],
            "source": [
                "df_rs = pd.read_csv('Valores_OT_Asoc_SIC.csv', header =0)\n",
                "df_bdvehic = pd.read_csv('Clean_Bd_Vehic.csv', encoding='latin-1', index_col=0)\n",
                "df_cod_org = pd.read_csv('Codigo_Organizacion.csv', sep=';')"
            ]
        },
        {
            "cell_type": "code",
            "execution_count": 10,
            "metadata": {},
            "outputs": [],
            "source": [
                "df_rs.columns = df_rs.columns.str.replace(' ', '')\n",
                "df_cvo.columns = df_cvo.columns.str.replace(' ', '')\n",
                "\n",
                "df_rs.columns = df_rs.columns.str.normalize('NFKD').str.encode('ascii', errors='ignore').str.decode('utf-8')\n",
                "df_cvo.columns = df_cvo.columns.str.normalize('NFKD').str.encode('ascii', errors='ignore').str.decode('utf-8')"
            ]
        },
        {
            "cell_type": "code",
            "execution_count": 11,
            "metadata": {},
            "outputs": [],
            "source": [
                "column_names = ['Numero_OT', 'OT_Principal', 'Tipo_OT', 'Estado_OT', 'PPA_MMU', 'No_SIC', 'Total', 'Desc', 'Marca', 'Modelo', 'Nom', 'Ele_Comp', 'Desc_Falla', 'Cod_Org', 'Nom_Org', 'Cod_Taller', 'UAC', 'UR', 'Tipo_Mant', 'Tipo_Comb', 'Sistema', 'Fec_Creacion', 'Fec_Final', 'Fec_Liberacion', 'Fec_Cierre', 'Year', 'Fabricat_Year']\n",
                "\n",
                "df = pd.DataFrame(columns = column_names)\n",
                "df.columns = df.columns.str.normalize('NFKD').str.encode('ascii', errors='ignore').str.decode('utf-8')\n",
                "df.columns = df.columns.str.replace(' ', '')"
            ]
        },
        {
            "cell_type": "code",
            "execution_count": 12,
            "metadata": {},
            "outputs": [],
            "source": [
                "# df_cvo.columns"
            ]
        },
        {
            "cell_type": "code",
            "execution_count": 13,
            "metadata": {},
            "outputs": [],
            "source": [
                "df[['Numero_OT', 'OT_Principal', 'Tipo_OT', 'Estado_OT', 'PPA_MMU', 'Ele_Comp', 'Desc_Falla', 'Cod_Org', 'Cod_Taller', 'Tipo_Mant', 'Sistema', 'Fec_Solicitud' ,'Fec_Creacion', 'Fec_Final', 'Fec_Liberacion', 'Fec_Cierre']] = df_cvo[['NumeroOt', 'NumeroOtPrincipal', 'TipoOt', 'Estado', 'PPA_MMU', 'GrupoDeActivos', 'DescripcionOt', 'NombreUR', 'CodigoTaller', 'TipoMantenimiento', 'Sistema', 'Fechasolicitud','FechaCreacion', 'FechaFinalizacion', 'FechaLiberacion', 'FechaCierre']]\n",
                "# df['OT_Principal'] = df_cvo['NumeroOtPrincipal']\n",
                "# df['Tipo_OT'] = df_cvo['TipoOt']\n",
                "# df['Estado_OT'] = df_cvo['Estado']\n",
                "# # df['Prioridad_Ot'] = df_cvo['Prioridad']\n",
                "# df['PPA_MMU'] = df_cvo['PPA_MMU']\n",
                "# df['Ele_Comp'] = df_cvo['GrupoDeActivos']\n",
                "# df['Desc_Falla'] = df_cvo['Descripcion']\n",
                "# df['Cod_Org'] = df_cvo['CodOrganizacion']\n",
                "# df['Cod_Taller'] = df_cvo['CodigoTaller']\n",
                "# df['Tipo_Mant'] = df_cvo['TipoMantenimiento']\n",
                "# df['Sistema'] = df_cvo['Sistema']\n",
                "# df['Cod_Falla'] = df_cvo['CodigoFalla']\n",
                "# df['Fec_Creacion'] = df_cvo['FechaCreacion']\n",
                "# df['Fec_Inicial_Prog'] = df_cvo['FechaInicialProgramada']\n",
                "# df['Fec_Final_Prog'] = df_cvo['FechaFinalizacionProgramada']\n",
                "# df['Fec_Final'] = df_cvo['FechaFinalizacion']\n",
                "# df['Fec_Liberacion'] = df_cvo['FechaLiberacion']\n",
                "# df['Fec_Cierre'] = df_cvo['FechaCierre']\n",
                "# df['Fec_Falla'] = df_cvo['FechaFalla']\n",
                "# df['Hora_Rep'] = df_cvo['Duracion']"
            ]
        },
        {
            "cell_type": "code",
            "execution_count": 14,
            "metadata": {},
            "outputs": [],
            "source": [
                "df['Tipo_OT'] = np.where(df['OT_Principal'].str.contains('No Tiene'), 'Principal', df['Tipo_OT'])\n",
                "df['Tipo_OT'] = np.where(df['OT_Principal'].str.contains('OT'), 'Secundaria', df['Tipo_OT'])\n",
                "\n",
                "mp = {'MPI', 'MPC'}\n",
                "df.loc[df.Tipo_Mant.isin(mp), 'Tipo_OT'] = 'Principal'"
            ]
        },
        {
            "cell_type": "code",
            "execution_count": 15,
            "metadata": {},
            "outputs": [],
            "source": [
                "def right_join_test(left_db, right_db, left_col, left_merge_cols, right_col, right_merge_cols):\n",
                "    left_temp_df = left_db.copy()\n",
                "    right_temp_df = right_db[right_col]\n",
                "    right_db[right_merge_cols] = pd.merge(left_temp_df, right_temp_df, left_on=left_col, right_on=right_col, how='right', indicator=True)[left_merge_cols]"
            ]
        },
        {
            "cell_type": "code",
            "execution_count": 16,
            "metadata": {},
            "outputs": [
                {
                    "data": {
                        "text/plain": [
                            "Index(['MMU/PPU', 'Descripción', 'Marca', 'Modelo', 'Categoría SIGLE', 'UAC',\n",
                            "       'UR', 'Costo Actual', 'Situación Operacional', 'Condición del Bien',\n",
                            "       'Año Fabricación', 'Cód. CIMAGE', 'Tipo Patente', 'Combustible',\n",
                            "       'Estanque', 'Función'],\n",
                            "      dtype='object')"
                        ]
                    },
                    "execution_count": 16,
                    "metadata": {},
                    "output_type": "execute_result"
                }
            ],
            "source": [
                "df_bdvehic.columns"
            ]
        },
        {
            "cell_type": "code",
            "execution_count": 17,
            "metadata": {},
            "outputs": [
                {
                    "data": {
                        "text/plain": [
                            "Index(['Numero_OT', 'OT_Principal', 'Tipo_OT', 'Estado_OT', 'PPA_MMU',\n",
                            "       'No_SIC', 'Total', 'Desc', 'Marca', 'Modelo', 'Nom', 'Ele_Comp',\n",
                            "       'Desc_Falla', 'Cod_Org', 'Nom_Org', 'Cod_Taller', 'UAC', 'UR',\n",
                            "       'Tipo_Mant', 'Tipo_Comb', 'Sistema', 'Fec_Creacion', 'Fec_Final',\n",
                            "       'Fec_Liberacion', 'Fec_Cierre', 'Year', 'Fabricat_Year',\n",
                            "       'Fec_Solicitud'],\n",
                            "      dtype='object')"
                        ]
                    },
                    "execution_count": 17,
                    "metadata": {},
                    "output_type": "execute_result"
                }
            ],
            "source": [
                "df.columns"
            ]
        },
        {
            "cell_type": "code",
            "execution_count": 18,
            "metadata": {},
            "outputs": [],
            "source": [
                "left_cols = ['Descripción', 'Marca', 'Modelo', 'UAC', 'UR', 'Tipo Patente', 'Combustible', 'Función', 'Año Fabricación']\n",
                "right_cols = ['Desc', 'Marca', 'Modelo', 'UAC', 'UR', 'Nom', 'Tipo_Comb', 'Ele_Comp', 'Fabricat_Year']\n",
                "right_join_test(df_bdvehic, df, 'MMU/PPU', left_cols, 'PPA_MMU', right_cols)\n",
                "df['Ele_Comp'].replace(np.nan, 'NO APLICA', inplace=True)"
            ]
        },
        {
            "cell_type": "code",
            "execution_count": 19,
            "metadata": {},
            "outputs": [],
            "source": [
                "# left_temp_df = df_bdvehic.copy()\n",
                "# right_temp_df = df['PPA_MMU']\n",
                "# left_cols = ['Descripcion', 'ATT8', 'Modelo', 'UAC', 'UR', 'ATT11', 'ATT19', 'ATT24']\n",
                "# right_cols = ['Desc', 'Marca', 'Modelo', 'UAC', 'UR', 'Nom', 'Tipo_Comb', 'Ele_Comp']\n",
                "# df[right_cols] = pd.merge(left_temp_df, right_temp_df, left_on='Numero Etiqueta', right_on='PPA_MMU', how='right', indicator=True)[left_cols]\n",
                "# df['Ele_Comp'].replace(np.nan, 'NO APLICA', inplace=True)"
            ]
        },
        {
            "cell_type": "code",
            "execution_count": 21,
            "metadata": {},
            "outputs": [
                {
                    "data": {
                        "text/html": [
                            "<div>\n",
                            "<style scoped>\n",
                            "    .dataframe tbody tr th:only-of-type {\n",
                            "        vertical-align: middle;\n",
                            "    }\n",
                            "\n",
                            "    .dataframe tbody tr th {\n",
                            "        vertical-align: top;\n",
                            "    }\n",
                            "\n",
                            "    .dataframe thead th {\n",
                            "        text-align: right;\n",
                            "    }\n",
                            "</style>\n",
                            "<table border=\"1\" class=\"dataframe\">\n",
                            "  <thead>\n",
                            "    <tr style=\"text-align: right;\">\n",
                            "      <th></th>\n",
                            "      <th>NroOt</th>\n",
                            "      <th>Total</th>\n",
                            "    </tr>\n",
                            "  </thead>\n",
                            "  <tbody>\n",
                            "    <tr>\n",
                            "      <th>0</th>\n",
                            "      <td>OT/012018</td>\n",
                            "      <td>11049240.0</td>\n",
                            "    </tr>\n",
                            "    <tr>\n",
                            "      <th>1</th>\n",
                            "      <td>OT/062018</td>\n",
                            "      <td>430000.0</td>\n",
                            "    </tr>\n",
                            "    <tr>\n",
                            "      <th>2</th>\n",
                            "      <td>OT/100208</td>\n",
                            "      <td>397250.0</td>\n",
                            "    </tr>\n",
                            "    <tr>\n",
                            "      <th>3</th>\n",
                            "      <td>OT/100693</td>\n",
                            "      <td>228000.0</td>\n",
                            "    </tr>\n",
                            "    <tr>\n",
                            "      <th>4</th>\n",
                            "      <td>OT/100694</td>\n",
                            "      <td>228000.0</td>\n",
                            "    </tr>\n",
                            "    <tr>\n",
                            "      <th>...</th>\n",
                            "      <td>...</td>\n",
                            "      <td>...</td>\n",
                            "    </tr>\n",
                            "    <tr>\n",
                            "      <th>1058</th>\n",
                            "      <td>OT/99266</td>\n",
                            "      <td>160000.0</td>\n",
                            "    </tr>\n",
                            "    <tr>\n",
                            "      <th>1059</th>\n",
                            "      <td>OT/99439</td>\n",
                            "      <td>160000.0</td>\n",
                            "    </tr>\n",
                            "    <tr>\n",
                            "      <th>1060</th>\n",
                            "      <td>OT/99611</td>\n",
                            "      <td>90000.0</td>\n",
                            "    </tr>\n",
                            "    <tr>\n",
                            "      <th>1061</th>\n",
                            "      <td>OT/99862</td>\n",
                            "      <td>244000.0</td>\n",
                            "    </tr>\n",
                            "    <tr>\n",
                            "      <th>1062</th>\n",
                            "      <td>OT/EJTO</td>\n",
                            "      <td>20382212.0</td>\n",
                            "    </tr>\n",
                            "  </tbody>\n",
                            "</table>\n",
                            "<p>1063 rows × 2 columns</p>\n",
                            "</div>"
                        ],
                        "text/plain": [
                            "          NroOt       Total\n",
                            "0     OT/012018  11049240.0\n",
                            "1     OT/062018    430000.0\n",
                            "2     OT/100208    397250.0\n",
                            "3     OT/100693    228000.0\n",
                            "4     OT/100694    228000.0\n",
                            "...         ...         ...\n",
                            "1058   OT/99266    160000.0\n",
                            "1059   OT/99439    160000.0\n",
                            "1060   OT/99611     90000.0\n",
                            "1061   OT/99862    244000.0\n",
                            "1062    OT/EJTO  20382212.0\n",
                            "\n",
                            "[1063 rows x 2 columns]"
                        ]
                    },
                    "execution_count": 21,
                    "metadata": {},
                    "output_type": "execute_result"
                }
            ],
            "source": [
                "df_rs"
            ]
        },
        {
            "cell_type": "code",
            "execution_count": 23,
            "metadata": {},
            "outputs": [],
            "source": [
                "left_cols = ['Total', 'NroOt']\n",
                "right_cols = ['Total', 'No_SIC']\n",
                "right_join_test(df_rs, df, 'NroOt', left_cols, 'Numero_OT', right_cols)"
            ]
        },
        {
            "cell_type": "code",
            "execution_count": null,
            "metadata": {},
            "outputs": [],
            "source": [
                "# left_temp_df = df_rs.copy()\n",
                "# right_temp_df = df['Numero_OT']\n",
                "# df[['SIC', 'Estado_SIC', 'Total']] = pd.merge(left_temp_df, right_temp_df, left_on='NroOt', right_on='Numero_OT', how='right', indicator=True)[['NumeroSic', 'EstadoSic', 'Total']]"
            ]
        },
        {
            "cell_type": "code",
            "execution_count": null,
            "metadata": {},
            "outputs": [],
            "source": [
                "# df_cod_org.head()"
            ]
        },
        {
            "cell_type": "code",
            "execution_count": 24,
            "metadata": {},
            "outputs": [],
            "source": [
                "left_cols = 'Nombre'\n",
                "right_cols = 'Nom_Org'\n",
                "right_join_test(df_cod_org, df, 'Codigo', left_cols, 'Cod_Org', right_cols)"
            ]
        },
        {
            "cell_type": "code",
            "execution_count": null,
            "metadata": {},
            "outputs": [],
            "source": [
                "# left_temp_df = df_cod_org.copy()\n",
                "# right_temp_df = df['Cod_Org']\n",
                "# df['Nom_Org'] = pd.merge(left_temp_df, right_temp_df, left_on='Codigo', right_on='Cod_Org', how='right', indicator=True)['Nombre']"
            ]
        },
        {
            "cell_type": "code",
            "execution_count": null,
            "metadata": {},
            "outputs": [],
            "source": [
                "# df_temp = df[['Fec_Solicitud', 'Fec_Creacion', 'Fec_Final', 'Fec_Liberacion', 'Fec_Cierre']]"
            ]
        },
        {
            "cell_type": "code",
            "execution_count": 25,
            "metadata": {},
            "outputs": [],
            "source": [
                "df['Fec_Solicitud'].replace('ENE', 'ene.', regex=True, inplace=True)\n",
                "df['Fec_Solicitud'].replace('FEB', 'feb.', regex=True, inplace=True)\n",
                "df['Fec_Solicitud'].replace('MAR', 'mar.', regex=True, inplace=True)\n",
                "df['Fec_Solicitud'].replace('ABR', 'abr.', regex=True, inplace=True)\n",
                "df['Fec_Solicitud'].replace('MAY', 'may.', regex=True, inplace=True)\n",
                "df['Fec_Solicitud'].replace('JUN', 'jun.', regex=True, inplace=True)\n",
                "df['Fec_Solicitud'].replace('JUL', 'jul.', regex=True, inplace=True)\n",
                "df['Fec_Solicitud'].replace('AGO', 'ago.', regex=True, inplace=True)\n",
                "df['Fec_Solicitud'].replace('SEP', 'sep.', regex=True, inplace=True)\n",
                "df['Fec_Solicitud'].replace('OCT', 'oct.', regex=True, inplace=True)\n",
                "df['Fec_Solicitud'].replace('NOV', 'nov.', regex=True, inplace=True)\n",
                "df['Fec_Solicitud'].replace('DIC', 'dic.', regex=True, inplace=True)"
            ]
        },
        {
            "cell_type": "code",
            "execution_count": null,
            "metadata": {},
            "outputs": [],
            "source": [
                "# df_temp"
            ]
        },
        {
            "cell_type": "code",
            "execution_count": 26,
            "metadata": {},
            "outputs": [],
            "source": [
                "# df = df[['Fec_Solicitud', 'Fec_Creacion', 'Fec_Final', 'Fec_Liberacion', 'Fec_Cierre']]\n",
                "\n",
                "for i in df[['Fec_Creacion', 'Fec_Final', 'Fec_Liberacion', 'Fec_Cierre']]:\n",
                "    df.loc[:, i] = pd.to_datetime(df.loc[:, i], errors='coerce', format='%Y/%m/%d')\n",
                "    \n",
                "df['Fec_Solicitud'] = pd.to_datetime(df['Fec_Solicitud'], errors='coerce', format='%d-%b-%y')\n",
                "    \n",
                "# df.fillna(np.datetime64('NaT'), inplace=True)"
            ]
        },
        {
            "cell_type": "code",
            "execution_count": null,
            "metadata": {},
            "outputs": [],
            "source": [
                "# df_temp"
            ]
        },
        {
            "cell_type": "code",
            "execution_count": null,
            "metadata": {},
            "outputs": [],
            "source": [
                "# df_temp.replace(np.datetime64('NaT'), str(pd.to_datetime('today').normalize().year), inplace=True)"
            ]
        },
        {
            "cell_type": "code",
            "execution_count": null,
            "metadata": {},
            "outputs": [],
            "source": [
                "# df_temp.head()"
            ]
        },
        {
            "cell_type": "code",
            "execution_count": 27,
            "metadata": {},
            "outputs": [
                {
                    "name": "stderr",
                    "output_type": "stream",
                    "text": [
                        "C:\\Users\\Lanzet\\AppData\\Local\\Programs\\Python\\Python38\\lib\\site-packages\\pandas\\core\\frame.py:5233: SettingWithCopyWarning: \n",
                        "A value is trying to be set on a copy of a slice from a DataFrame\n",
                        "\n",
                        "See the caveats in the documentation: https://pandas.pydata.org/pandas-docs/stable/user_guide/indexing.html#returning-a-view-versus-a-copy\n",
                        "  return super().replace(\n"
                    ]
                }
            ],
            "source": [
                "df_temp = df[[ 'Fec_Creacion', 'Fec_Final', 'Fec_Liberacion', 'Fec_Cierre']]\n",
                "df_temp.replace(np.datetime64('NaT'), str(pd.to_datetime('today').normalize().year), inplace=True)\n",
                "df['Year'] = [np.amin(np.array([row.Fec_Creacion.year,row.Fec_Final.year,row.Fec_Liberacion.year,row.Fec_Cierre.year])) for _, row in df_temp.iterrows()]"
            ]
        },
        {
            "cell_type": "code",
            "execution_count": null,
            "metadata": {},
            "outputs": [],
            "source": [
                "# df['Year'].unique()"
            ]
        },
        {
            "cell_type": "code",
            "execution_count": null,
            "metadata": {},
            "outputs": [
                {
                    "name": "stdout",
                    "output_type": "stream",
                    "text": [
                        "<class 'pandas.core.frame.DataFrame'>\n",
                        "Int64Index: 63740 entries, 0 to 63739\n",
                        "Data columns (total 28 columns):\n",
                        " #   Column          Non-Null Count  Dtype         \n",
                        "---  ------          --------------  -----         \n",
                        " 0   Numero_OT       63740 non-null  object        \n",
                        " 1   OT_Principal    10313 non-null  object        \n",
                        " 2   Tipo_OT         63740 non-null  object        \n",
                        " 3   Estado_OT       63740 non-null  object        \n",
                        " 4   PPA_MMU         63740 non-null  object        \n",
                        " 5   No_SIC          949 non-null    float64       \n",
                        " 6   Total           949 non-null    float64       \n",
                        " 7   Desc            62684 non-null  object        \n",
                        " 8   Marca           61603 non-null  object        \n",
                        " 9   Modelo          62659 non-null  object        \n",
                        " 10  Nom             62653 non-null  object        \n",
                        " 11  Ele_Comp        63740 non-null  object        \n",
                        " 12  Desc_Falla      63716 non-null  object        \n",
                        " 13  Cod_Org         63740 non-null  object        \n",
                        " 14  Nom_Org         63740 non-null  object        \n",
                        " 15  Cod_Taller      63484 non-null  object        \n",
                        " 16  UAC             62684 non-null  object        \n",
                        " 17  UR              62684 non-null  object        \n",
                        " 18  Tipo_Mant       63662 non-null  object        \n",
                        " 19  Tipo_Comb       62684 non-null  object        \n",
                        " 20  Sistema         12023 non-null  object        \n",
                        " 21  Fec_Creacion    63740 non-null  datetime64[ns]\n",
                        " 22  Fec_Final       36459 non-null  datetime64[ns]\n",
                        " 23  Fec_Liberacion  41607 non-null  datetime64[ns]\n",
                        " 24  Fec_Cierre      36287 non-null  datetime64[ns]\n",
                        " 25  Year            63740 non-null  int32         \n",
                        " 26  Fabricat_Year   62576 non-null  float64       \n",
                        " 27  Fec_Solicitud   33911 non-null  datetime64[ns]\n",
                        "dtypes: datetime64[ns](5), float64(3), int32(1), object(19)\n",
                        "memory usage: 15.9+ MB\n"
                    ]
                }
            ],
            "source": [
                "df.info()"
            ]
        },
        {
            "cell_type": "code",
            "execution_count": null,
            "metadata": {},
            "outputs": [],
            "source": [
                "# df[df['Numero_OT'].str.len() > 9]"
            ]
        },
        {
            "cell_type": "code",
            "execution_count": 28,
            "metadata": {},
            "outputs": [],
            "source": [
                "out_file = Path.cwd() / \"output.xlsx\"\n",
                "writer = pd.ExcelWriter(out_file, engine = 'xlsxwriter', datetime_format='yyyy-mm-dd', date_format='yyyy-mm-dd')\n",
                "df.to_excel(writer, index = False, sheet_name = 'Test1')\n",
                "#df_vehic.to_excel(writer, index = False, sheet_name = 'Test2')\n",
                "writer.save()"
            ]
        },
        {
            "cell_type": "code",
            "execution_count": null,
            "metadata": {},
            "outputs": [],
            "source": []
        }
    ],
    "metadata": {
        "interpreter": {
            "hash": "abd71ca0273cee8f8830c46ec1e03309f3a1a65fe5bd29f380243a6172077fef"
        },
        "kernelspec": {
            "display_name": "Python 3.8.10 64-bit",
            "name": "python3"
        },
        "language_info": {
            "codemirror_mode": {
                "name": "ipython",
                "version": 3
            },
            "file_extension": ".py",
            "mimetype": "text/x-python",
            "name": "python",
            "nbconvert_exporter": "python",
            "pygments_lexer": "ipython3",
            "version": "3.8.10"
        },
        "orig_nbformat": 4
    },
    "nbformat": 4,
    "nbformat_minor": 2
}
