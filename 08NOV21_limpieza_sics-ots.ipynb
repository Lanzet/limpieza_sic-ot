{
 "cells": [
  {
   "cell_type": "code",
   "execution_count": 1,
   "metadata": {},
   "outputs": [],
   "source": [
    "import re\n",
    "import pandas as pd\n",
    "from pathlib import Path"
   ]
  },
  {
   "cell_type": "code",
   "execution_count": 2,
   "metadata": {},
   "outputs": [],
   "source": [
    "_, df_rs = pd.read_html('XXEJE_EAM____Reporte_situación_021121.xls', header =0)"
   ]
  },
  {
   "cell_type": "code",
   "execution_count": 3,
   "metadata": {},
   "outputs": [],
   "source": [
    "df = df_rs[['Nro Ot', 'Estado Sic', 'Nro Referencial', 'Total']]"
   ]
  },
  {
   "cell_type": "code",
   "execution_count": 4,
   "metadata": {},
   "outputs": [
    {
     "name": "stderr",
     "output_type": "stream",
     "text": [
      "C:\\Users\\Lanzet\\AppData\\Local\\Programs\\Python\\Python38\\lib\\site-packages\\pandas\\core\\frame.py:3607: SettingWithCopyWarning: \n",
      "A value is trying to be set on a copy of a slice from a DataFrame.\n",
      "Try using .loc[row_indexer,col_indexer] = value instead\n",
      "\n",
      "See the caveats in the documentation: https://pandas.pydata.org/pandas-docs/stable/user_guide/indexing.html#returning-a-view-versus-a-copy\n",
      "  self._set_item(key, value)\n"
     ]
    }
   ],
   "source": [
    "df['Nro Referencial'] = df['Nro Referencial'].str.replace('LIBRO','',regex=False)\n",
    "df['Nro Referencial'] = df['Nro Referencial'].str.replace('OT ','OT/',regex=False)\n",
    "df['Nro Referencial'] = df['Nro Referencial'].str.replace(' ','',regex=False)\n",
    "df['Nro Referencial'] = df['Nro Referencial'].str.replace('N°','',regex=False)\n",
    "df['Nro Referencial'] = df['Nro Referencial'].str.replace('N.°','',regex=False)\n",
    "df['Nro Referencial'] = df['Nro Referencial'].str.replace('Nº','',regex=False)\n",
    "df['Nro Referencial'] = df['Nro Referencial'].str.replace('Nª','',regex=False)\n",
    "df['Nro Referencial'] = df['Nro Referencial'].str.replace('O/T','OT/',regex=False)\n",
    "df['Nro Referencial'] = df['Nro Referencial'].str.replace('O/Y','OT/',regex=False)\n",
    "df['Nro Referencial'] = df['Nro Referencial'].str.replace('OT-','OT/',regex=False)\n",
    "df['Nro Referencial'] = df['Nro Referencial'].str.replace('OT.','OT/',regex=False)\n",
    "df['Nro Referencial'] = df['Nro Referencial'].str.replace('OT:','OT/',regex=False)\n",
    "df['Nro Referencial'] = df['Nro Referencial'].str.replace('OT;','OT/',regex=False)\n",
    "df['Nro Referencial'] = df['Nro Referencial'].str.replace('OT/:','OT/',regex=False)\n",
    "df['Nro Referencial'] = df['Nro Referencial'].str.replace('OT/-','OT/',regex=False)\n",
    "df['Nro Referencial'] = df['Nro Referencial'].str.replace('OT/.','OT/',regex=False)\n",
    "df['Nro Referencial'] = df['Nro Referencial'].str.replace('0/T','OT/',regex=False)\n",
    "\n",
    "df['Nro Referencial'] = df['Nro Referencial'].str.replace('.','',regex=False)\n",
    "df['Nro Referencial'] = df['Nro Referencial'].str.replace('//','/',regex=False)\n",
    "df['Nro Referencial'] = df['Nro Referencial'].str.replace('Y',',',regex=False)\n",
    "df['Nro Referencial'] = df['Nro Referencial'].str.replace('y',',',regex=False)\n",
    "df['Nro Referencial'] = df['Nro Referencial'].str.replace(';',',',regex=False)"
   ]
  },
  {
   "cell_type": "code",
   "execution_count": 5,
   "metadata": {},
   "outputs": [
    {
     "name": "stderr",
     "output_type": "stream",
     "text": [
      "C:\\Users\\Lanzet\\AppData\\Local\\Programs\\Python\\Python38\\lib\\site-packages\\pandas\\core\\indexing.py:1817: SettingWithCopyWarning: \n",
      "A value is trying to be set on a copy of a slice from a DataFrame.\n",
      "Try using .loc[row_indexer,col_indexer] = value instead\n",
      "\n",
      "See the caveats in the documentation: https://pandas.pydata.org/pandas-docs/stable/user_guide/indexing.html#returning-a-view-versus-a-copy\n",
      "  self._setitem_single_column(loc, value, pi)\n"
     ]
    }
   ],
   "source": [
    "for i, n in enumerate(df['Nro Referencial']):\n",
    "    check = 'E-'\n",
    "    if check in n:\n",
    "        if n.find(check) < len(n)/2:\n",
    "            df.loc[i, 'Nro Referencial'] = n[6:]\n",
    "        else:\n",
    "            df.loc[i, 'Nro Referencial'] = n[:9]\n",
    "    check = 'EJTO-'\n",
    "    if check in n:\n",
    "        if n.find(check) < len(n)/2:\n",
    "            df.loc[i, 'Nro Referencial'] = n[9:]\n",
    "        else:\n",
    "            df.loc[i, 'Nro Referencial'] = n[:9]"
   ]
  },
  {
   "cell_type": "code",
   "execution_count": 6,
   "metadata": {},
   "outputs": [],
   "source": [
    "df['Nro Referencial'] = df['Nro Referencial'].str.replace('-',',',regex=False)\n",
    "df['Nro Referencial'] = df['Nro Referencial'].str.replace('_',',',regex=False)\n",
    "df['Nro Referencial'] = df['Nro Referencial'].str.replace('(MANUAL)','',regex=False)\n",
    "df['Nro Referencial'] = df['Nro Referencial'].str.replace('MANUAL','',regex=False)\n",
    "df['Nro Referencial'] = df['Nro Referencial'].str.replace(')','',regex=False)\n",
    "df['Nro Referencial'] = df['Nro Referencial'].str.replace('(',',',regex=False)\n",
    "df['Nro Referencial'] = df['Nro Referencial'].str.replace('NUMERODE','',regex=False)\n",
    "df['Nro Referencial'] = df['Nro Referencial'].str.replace('NUMEROSDE','',regex=False)\n",
    "df['Nro Referencial'] = df['Nro Referencial'].str.replace('NOT','OT',regex=False)"
   ]
  },
  {
   "cell_type": "code",
   "execution_count": 7,
   "metadata": {},
   "outputs": [],
   "source": [
    "df['Nro Referencial'] = df['Nro Referencial'].str.replace('CMA','',regex=False)\n",
    "df['Nro Referencial'] = df['Nro Referencial'].str.replace('PIC/','',regex=False)\n",
    "df['Nro Referencial'] = df['Nro Referencial'].str.replace('/2014','',regex=False)\n",
    "df['Nro Referencial'] = df['Nro Referencial'].str.replace('/2015','',regex=False)\n",
    "df['Nro Referencial'] = df['Nro Referencial'].str.replace('/2016','',regex=False)\n",
    "df['Nro Referencial'] = df['Nro Referencial'].str.replace('/2017','',regex=False)\n",
    "df['Nro Referencial'] = df['Nro Referencial'].str.replace('/2018','',regex=False)\n",
    "df['Nro Referencial'] = df['Nro Referencial'].str.replace('/2019','',regex=False)\n",
    "df['Nro Referencial'] = df['Nro Referencial'].str.replace('/2020','',regex=False)\n",
    "df['Nro Referencial'] = df['Nro Referencial'].str.replace('/2021','',regex=False)\n",
    "df['Nro Referencial'] = df['Nro Referencial'].str.replace('de2019','',regex=False)\n",
    "df['Nro Referencial'] = df['Nro Referencial'].str.replace('OTL','OT/',regex=False)\n",
    "df['Nro Referencial'] = df['Nro Referencial'].str.replace('OT/,','OT/',regex=False)\n",
    "df['Nro Referencial'] = df['Nro Referencial'].str.replace('A,','OT/',regex=False)"
   ]
  },
  {
   "cell_type": "code",
   "execution_count": 8,
   "metadata": {},
   "outputs": [],
   "source": [
    "df_temp = df.copy()"
   ]
  },
  {
   "cell_type": "code",
   "execution_count": 9,
   "metadata": {},
   "outputs": [],
   "source": [
    "for i, n in enumerate(df_temp['Nro Referencial']):\n",
    "    if (re.match(r'[0-9]{2,7}$', n)):\n",
    "        df_temp.loc[i, 'Nro Referencial'] = 'OT/'+str(n)"
   ]
  },
  {
   "cell_type": "code",
   "execution_count": 10,
   "metadata": {},
   "outputs": [],
   "source": [
    "for i, n in enumerate(df_temp['Nro Referencial']):\n",
    "    if (re.match(r'[A-Z]{2}/[0-9]{2,7}$', n)):\n",
    "        df_temp.loc[i, 'Nro Ot'] = n"
   ]
  },
  {
   "cell_type": "code",
   "execution_count": 11,
   "metadata": {},
   "outputs": [],
   "source": [
    "temp = df_temp[(df_temp['Estado Sic'] == 'APPROVED') | (df_temp['Estado Sic']=='IN PROCESS')]\n",
    "temp1 = temp[(temp['Nro Referencial']==temp['Nro Ot'])].reset_index(drop=True)\n",
    "temp2 = temp[(temp['Nro Referencial']!=temp['Nro Ot'])].reset_index(drop=True)"
   ]
  },
  {
   "cell_type": "code",
   "execution_count": 12,
   "metadata": {},
   "outputs": [],
   "source": [
    "fin1 = temp1.groupby(['Nro Ot']).sum().reset_index()\n",
    "fin1 = fin1[fin1['Nro Ot'].str.len()>6]"
   ]
  },
  {
   "cell_type": "code",
   "execution_count": 13,
   "metadata": {},
   "outputs": [],
   "source": [
    "temp2['Nro Referencial'] = temp2['Nro Referencial'].str.replace('OT/','',regex=False)\n",
    "temp2['Nro Referencial'] = temp2['Nro Referencial'].str.replace('OT','',regex=False)"
   ]
  },
  {
   "cell_type": "code",
   "execution_count": 14,
   "metadata": {},
   "outputs": [],
   "source": [
    "for i,n in enumerate(temp2['Nro Referencial']):\n",
    "    if (re.match(r'[0-9]{5}[0-9]{5}$', n)):\n",
    "        temp2.loc[i, 'Nro Referencial'] = n[:5]+','+n[5:]\n",
    "    if (re.match(r'[0-9]{6}[0-9]{6}$', n)):\n",
    "        temp2.loc[i, 'Nro Referencial'] = n[:6]+','+n[6:]\n",
    "    if (re.match(r'[0-9]{6}[0-9]{6}[0-9]{6}$', n)):\n",
    "        temp2.loc[i, 'Nro Referencial'] = n[:6]+','+n[6:12]+','+n[12:]"
   ]
  },
  {
   "cell_type": "code",
   "execution_count": 15,
   "metadata": {},
   "outputs": [],
   "source": [
    "b=False\n",
    "otes = []\n",
    "valores = []\n",
    "\n",
    "for i, n in enumerate(temp2['Nro Referencial']):\n",
    "    sep = n.split(',')\n",
    "    if len(sep)>1:\n",
    "        if (len(sep[0])>len(sep[1])) and (len(sep[1])<5):\n",
    "            b=True\n",
    "        for j in range(len(sep)):\n",
    "            if b:\n",
    "                otes.append('OT/'+str(sep[0][:-len(sep[j])] + sep[j]))\n",
    "                valores.append(temp2.loc[i, 'Total']/len(sep))\n",
    "            else:\n",
    "                otes.append(str('OT/'+sep[j]))\n",
    "                valores.append(temp2.loc[i, 'Total']/len(sep))\n",
    "        b=False\n",
    "temp3 = pd.DataFrame({'Nro Ot':otes, 'Total':valores})"
   ]
  },
  {
   "cell_type": "code",
   "execution_count": 16,
   "metadata": {},
   "outputs": [],
   "source": [
    "fin2 = temp3.groupby(['Nro Ot']).sum().reset_index()\n",
    "fin2 = fin2[fin2['Nro Ot'].str.len()>6]"
   ]
  },
  {
   "cell_type": "code",
   "execution_count": 17,
   "metadata": {},
   "outputs": [],
   "source": [
    "df_fin = pd.concat([fin1, fin2], axis=0, ignore_index=True)"
   ]
  },
  {
   "cell_type": "code",
   "execution_count": 18,
   "metadata": {},
   "outputs": [],
   "source": [
    "fin3 = df_fin.groupby(['Nro Ot']).sum().reset_index()"
   ]
  },
  {
   "cell_type": "code",
   "execution_count": 19,
   "metadata": {},
   "outputs": [],
   "source": [
    "# out_file = Path.cwd() / \"Valores_OT_Asoc_SIC.xlsx\"\n",
    "# writer = pd.ExcelWriter(out_file, engine = 'xlsxwriter')\n",
    "# fin3.to_excel(writer, index = False)\n",
    "# writer.save()\n",
    "fin3.to_csv(Path.cwd() / \"Valores_OT_Asoc_SIC.csv\", index = False)"
   ]
  }
 ],
 "metadata": {
  "interpreter": {
   "hash": "abd71ca0273cee8f8830c46ec1e03309f3a1a65fe5bd29f380243a6172077fef"
  },
  "kernelspec": {
   "display_name": "Python 3.8.10 64-bit",
   "language": "python",
   "name": "python3"
  },
  "language_info": {
   "codemirror_mode": {
    "name": "ipython",
    "version": 3
   },
   "file_extension": ".py",
   "mimetype": "text/x-python",
   "name": "python",
   "nbconvert_exporter": "python",
   "pygments_lexer": "ipython3",
   "version": "3.8.10"
  },
  "orig_nbformat": 4
 },
 "nbformat": 4,
 "nbformat_minor": 2
}
