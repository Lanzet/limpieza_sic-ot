{
 "cells": [
  {
   "cell_type": "code",
   "execution_count": 1,
   "metadata": {},
   "outputs": [],
   "source": [
    "import re\n",
    "import pandas as pd\n",
    "from pathlib import Path\n",
    "import numpy as np"
   ]
  },
  {
   "cell_type": "code",
   "execution_count": 2,
   "metadata": {},
   "outputs": [],
   "source": [
    "_, df_rs = pd.read_html('XXEJE_EAM____Reporte_situación_021121.xls', header =0)"
   ]
  },
  {
   "cell_type": "code",
   "execution_count": 3,
   "metadata": {},
   "outputs": [
    {
     "name": "stdout",
     "output_type": "stream",
     "text": [
      "<class 'pandas.core.frame.DataFrame'>\n",
      "RangeIndex: 10692 entries, 0 to 10691\n",
      "Data columns (total 21 columns):\n",
      " #   Column                Non-Null Count  Dtype  \n",
      "---  ------                --------------  -----  \n",
      " 0   Organizacion          10692 non-null  object \n",
      " 1   Numero Activo Eam     4677 non-null   object \n",
      " 2   Nro Ot                4677 non-null   object \n",
      " 3   Estado Ot             4677 non-null   object \n",
      " 4   Fecha Inicio          10692 non-null  object \n",
      " 5   Fecha Cierre De Ot    4677 non-null   object \n",
      " 6   Numero Activo Sigle   3219 non-null   float64\n",
      " 7   Mmu Ppu N Serie       3196 non-null   object \n",
      " 8   Tipo Mant             4677 non-null   object \n",
      " 9   Sistema               4677 non-null   object \n",
      " 10  Codigo Falla          93 non-null     object \n",
      " 11  Desc Falla            93 non-null     object \n",
      " 12  Numero Sic            10692 non-null  int64  \n",
      " 13  Numero Linea          10692 non-null  int64  \n",
      " 14  Material O Servicios  10692 non-null  object \n",
      " 15  Estado Sic            10692 non-null  object \n",
      " 16  Fecha Creacion Sic    10692 non-null  object \n",
      " 17  Fecha Aprobación SIC  3803 non-null   object \n",
      " 18  Nro Referencial       10692 non-null  object \n",
      " 19  Actividad Finalidad   10692 non-null  int64  \n",
      " 20  Total                 10692 non-null  int64  \n",
      "dtypes: float64(1), int64(4), object(16)\n",
      "memory usage: 1.7+ MB\n"
     ]
    }
   ],
   "source": [
    "df_rs.info()"
   ]
  },
  {
   "cell_type": "code",
   "execution_count": 19,
   "metadata": {},
   "outputs": [],
   "source": [
    "df = df_rs[['Nro Ot', 'Estado Sic', 'Nro Referencial', 'Total']]"
   ]
  },
  {
   "cell_type": "code",
   "execution_count": 20,
   "metadata": {},
   "outputs": [],
   "source": [
    "df['Nro Referencial'] = df['Nro Referencial'].str.replace('LIBRO','',regex=False)\n",
    "df['Nro Referencial'] = df['Nro Referencial'].str.replace('OT ','OT/',regex=False)\n",
    "df['Nro Referencial'] = df['Nro Referencial'].str.replace(' ','',regex=False)\n",
    "df['Nro Referencial'] = df['Nro Referencial'].str.replace('N°','',regex=False)\n",
    "df['Nro Referencial'] = df['Nro Referencial'].str.replace('N.°','',regex=False)\n",
    "df['Nro Referencial'] = df['Nro Referencial'].str.replace('Nº','',regex=False)\n",
    "df['Nro Referencial'] = df['Nro Referencial'].str.replace('Nª','',regex=False)\n",
    "df['Nro Referencial'] = df['Nro Referencial'].str.replace('O/T','OT/',regex=False)\n",
    "df['Nro Referencial'] = df['Nro Referencial'].str.replace('OT-','OT/',regex=False)\n",
    "df['Nro Referencial'] = df['Nro Referencial'].str.replace('OT.','OT/',regex=False)\n",
    "df['Nro Referencial'] = df['Nro Referencial'].str.replace('OT:','OT/',regex=False)\n",
    "df['Nro Referencial'] = df['Nro Referencial'].str.replace('OT;','OT/',regex=False)\n",
    "df['Nro Referencial'] = df['Nro Referencial'].str.replace('OT/:','OT/',regex=False)\n",
    "df['Nro Referencial'] = df['Nro Referencial'].str.replace('OT/-','OT/',regex=False)\n",
    "df['Nro Referencial'] = df['Nro Referencial'].str.replace('OT/.','OT/',regex=False)\n",
    "df['Nro Referencial'] = df['Nro Referencial'].str.replace('0/T','OT/',regex=False)\n",
    "\n",
    "df['Nro Referencial'] = df['Nro Referencial'].str.replace('.','',regex=False)\n",
    "df['Nro Referencial'] = df['Nro Referencial'].str.replace('//','/',regex=False)"
   ]
  },
  {
   "cell_type": "code",
   "execution_count": 21,
   "metadata": {},
   "outputs": [
    {
     "name": "stderr",
     "output_type": "stream",
     "text": [
      "C:\\Users\\Lanzet\\AppData\\Local\\Programs\\Python\\Python38\\lib\\site-packages\\pandas\\core\\indexing.py:1817: SettingWithCopyWarning: \n",
      "A value is trying to be set on a copy of a slice from a DataFrame.\n",
      "Try using .loc[row_indexer,col_indexer] = value instead\n",
      "\n",
      "See the caveats in the documentation: https://pandas.pydata.org/pandas-docs/stable/user_guide/indexing.html#returning-a-view-versus-a-copy\n",
      "  self._setitem_single_column(loc, value, pi)\n"
     ]
    }
   ],
   "source": [
    "# b=0\n",
    "for i, n in enumerate(df['Nro Referencial']):\n",
    "    check = 'E-'\n",
    "    if check in n:\n",
    "        # print(n.find(check))\n",
    "        # print(len(n)/2)\n",
    "        if n.find(check) < len(n)/2:\n",
    "            df.loc[i, 'Nro Referencial'] = n[6:]\n",
    "            # print(n[6:])\n",
    "        else:\n",
    "            df.loc[i, 'Nro Referencial'] = n[:9]\n",
    "            # print(n[:9])\n",
    "    check = 'EJTO-'\n",
    "    if check in n:\n",
    "        if n.find(check) < len(n)/2:\n",
    "            # print(n[9:])\n",
    "            df.loc[i, 'Nro Referencial'] = n[9:]\n",
    "        else:\n",
    "            df.loc[i, 'Nro Referencial'] = n[:9]\n",
    "            # print(n[:9])\n",
    "        # print(n)"
   ]
  },
  {
   "cell_type": "code",
   "execution_count": 25,
   "metadata": {},
   "outputs": [
    {
     "name": "stdout",
     "output_type": "stream",
     "text": [
      "OT/07,11,42\n",
      "OT/54,55,56,57,58\n",
      "OT/54,55,56,57,58\n",
      "OT/47,50\n",
      "OT/47,50\n",
      "OT/47,50\n",
      "OT/47,50\n",
      "OT/103990,103989\n",
      "OT/103990,103989\n",
      "OT/103990,103989\n",
      "OT/103990,103989\n",
      "OT/56,57,59\n",
      "OT/56,57,59\n",
      "OT/56,57,59\n",
      "OT/102310,102311,102307\n",
      "OT/102310,102311,102307\n",
      "OT/102310,102311,102307\n",
      "OT/102310,102311,102307\n",
      "OT/102310,102311,102307\n",
      "OT/102576,103814\n",
      "OT/90,91,150,151\n",
      "OT/92,93,94\n",
      "OT/92,93,94\n",
      "OT/92,93,94\n",
      "OT/92,93,94\n",
      "OT/92,93,94\n",
      "OT/92,93,94\n",
      "OT/92,93,94\n",
      "OT/92,93,94\n",
      "OT/92,93,94\n",
      "OT/102346,102347\n",
      "OT/102346,102347\n",
      "OT/102346,102347\n",
      "OT/119585,119586\n",
      "OT/119585,119586\n",
      "OT/100750,100926\n",
      "OT/96644,99862,145377\n",
      "OT/96644,99862,145377\n",
      "OT/96644,99862,145377\n",
      "OT/96644,99862,145377\n",
      "OT/96644,99862,145377\n",
      "OT/149553,102164,102162\n",
      "OT/159172,158680,157533\n",
      "OT/159172,158680,157533\n",
      "OT/159172,158680,157533\n",
      "OT/159172,158680,157533\n",
      "OT/147565,120468,102811\n",
      "OT/147565,120468,102811\n",
      "OT/147565,120468,102811\n",
      "OT/147565,120468,102811\n",
      "OT/164554,176606,176607\n",
      "OT/104887,161638\n",
      "OT/100997,OT/101871\n",
      "OT/97387,OT/97386\n",
      "OT/97387,OT/97386\n",
      "OT/97387,OT/97386\n",
      "OT/97387,OT/97386\n",
      "OT/97387,OT/97386\n",
      "OT/97838,OT/97683\n",
      "OT/97838,OT/97683\n",
      "OT/97838,OT/97683\n",
      "OT/97838,OT/97683\n",
      "OT/97386,OT/97387\n",
      "OT/97386,OT/97387\n",
      "OT/97386,OT/97387\n",
      "OT/97386,OT/97387\n",
      "OT/97386,OT/97387\n",
      "OT/165151,165153,165156\n",
      "OT/165151,165153,165156\n",
      "OT/165151,165153,165156\n",
      "OT/165151,165153,165156\n",
      "OT/165151,165153,165156\n",
      "OT/165151,165153,165156\n",
      "OT/165151,165153,165156\n",
      "OT/165151,165153,165156\n",
      "OT/165151,165153,165156\n",
      "OT/107417,OT/107389\n",
      "OT/113421,136307\n",
      "OT/2213787,213781,213786\n",
      "OT/2213787,213781,213786\n",
      "OT/2213787,213781,213786\n",
      "OT/164409,136945,136944\n",
      "OT/164409,136945,136944\n",
      "OT/213784,213783\n",
      "OT/213784,213783\n",
      "OT/213784,213783\n",
      "OT/213784,213783\n",
      "OT/213784,213783\n",
      "OT/141367,OT/141366\n",
      "OT/141367,OT/141366\n",
      "OT/164583,164585,164586\n",
      "OT/168489,168487,168486\n",
      "OT/168489,168487,168486\n",
      "OT/168489,168487,168486\n",
      "OT/168486,168487,168489\n",
      "OT/168486,168487,168489\n",
      "OT/168486,168487,168489\n",
      "OT/226771,226773,226797\n",
      "OT/126300,01,02,03,04,05\n",
      "OT/157731,157734,157734\n",
      "OT/157731,157734,157734\n",
      "OT/115465,115476,115477\n",
      "OT/115478,115484,115486\n",
      "OT/115479,115483,115489\n",
      "OT/236,258,253,245,238\n",
      "OT/236,258,253,245,238\n",
      "OT/09/2020,OT/10/20\n",
      "OT/13,14,15,16,17,18\n"
     ]
    }
   ],
   "source": [
    "for i, n in enumerate(df['Nro Referencial']):\n",
    "    test = n.split(',')\n",
    "    if len(test)>1:\n",
    "        n = n.replace('y', ',')\n",
    "        print(n)"
   ]
  },
  {
   "cell_type": "code",
   "execution_count": 23,
   "metadata": {},
   "outputs": [
    {
     "data": {
      "text/plain": [
       "0             OT/142019\n",
       "1             OT/126067\n",
       "2             OT/126325\n",
       "3             OT/156254\n",
       "4             OT/123584\n",
       "              ...      \n",
       "10687         OT/143926\n",
       "10688    OT/153(MANUAL)\n",
       "10689    OT/152(MANUAL)\n",
       "10690    OT/155(MANUAL)\n",
       "10691    OT/154(MANUAL)\n",
       "Name: Nro Referencial, Length: 10692, dtype: object"
      ]
     },
     "execution_count": 23,
     "metadata": {},
     "output_type": "execute_result"
    }
   ],
   "source": [
    "df['Nro Referencial']"
   ]
  },
  {
   "cell_type": "code",
   "execution_count": 9,
   "metadata": {},
   "outputs": [],
   "source": [
    "out_file = Path.cwd() / \"Clean_Sic-Ot.xlsx\"\n",
    "writer = pd.ExcelWriter(out_file, engine = 'xlsxwriter')\n",
    "df.to_excel(writer, index = False, sheet_name = 'Test1')\n",
    "#df_vehic.to_excel(writer, index = False, sheet_name = 'Test2')\n",
    "writer.save()"
   ]
  }
 ],
 "metadata": {
  "interpreter": {
   "hash": "abd71ca0273cee8f8830c46ec1e03309f3a1a65fe5bd29f380243a6172077fef"
  },
  "kernelspec": {
   "display_name": "Python 3.8.10 64-bit",
   "language": "python",
   "name": "python3"
  },
  "language_info": {
   "codemirror_mode": {
    "name": "ipython",
    "version": 3
   },
   "file_extension": ".py",
   "mimetype": "text/x-python",
   "name": "python",
   "nbconvert_exporter": "python",
   "pygments_lexer": "ipython3",
   "version": "3.8.10"
  },
  "orig_nbformat": 4
 },
 "nbformat": 4,
 "nbformat_minor": 2
}
